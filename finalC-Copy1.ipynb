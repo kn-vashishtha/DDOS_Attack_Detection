{
 "cells": [
  {
   "cell_type": "markdown",
   "id": "e562ff8e",
   "metadata": {},
   "source": [
    "# DDoS Attack Detection"
   ]
  },
  {
   "cell_type": "markdown",
   "id": "5d1501ee",
   "metadata": {},
   "source": [
    "### Before execution :"
   ]
  },
  {
   "cell_type": "code",
   "execution_count": null,
   "id": "7b1ee959",
   "metadata": {},
   "outputs": [],
   "source": [
    "!pip install --upgrade pip\n"
   ]
  },
  {
   "cell_type": "code",
   "execution_count": null,
   "id": "c0150a8d",
   "metadata": {},
   "outputs": [],
   "source": [
    "! pip install tensorflow"
   ]
  },
  {
   "cell_type": "code",
   "execution_count": null,
   "id": "3e03aa33",
   "metadata": {},
   "outputs": [],
   "source": [
    "! pip install protos"
   ]
  },
  {
   "cell_type": "code",
   "execution_count": null,
   "id": "bd9f0168",
   "metadata": {},
   "outputs": [],
   "source": [
    "pip --default-timeout=1000 install tensorflow"
   ]
  },
  {
   "cell_type": "code",
   "execution_count": null,
   "id": "91a3a36c",
   "metadata": {},
   "outputs": [],
   "source": [
    "! pip install keras\n",
    "! pip install scikit-learn"
   ]
  },
  {
   "cell_type": "markdown",
   "id": "c61e573a",
   "metadata": {},
   "source": [
    "## 1. Importing all necessary libraries "
   ]
  },
  {
   "cell_type": "code",
   "execution_count": 1,
   "id": "53f97567",
   "metadata": {
    "tags": []
   },
   "outputs": [],
   "source": [
    "import numpy as np\n",
    "import pandas as pd\n",
    "import matplotlib.pyplot as plt\n",
    "\n",
    "from sklearn.ensemble import RandomForestClassifier\n",
    "from sklearn.model_selection import train_test_split\n",
    "from sklearn.metrics import accuracy_score, classification_report, confusion_matrix\n",
    "import sklearn.metrics\n",
    "from sklearn.linear_model import LogisticRegression\n",
    "\n",
    "import seaborn as sns; sns.set()\n",
    "from keras.models import Sequential, load_model\n",
    "from keras.layers import Dense, LSTM, Bidirectional\n",
    "from keras.utils import plot_model\n",
    "from tensorflow.keras.utils import to_categorical\n",
    "#from keras.utils.np_utils import to_categorical\n",
    "#from keras.utils import np_utils\n",
    "import keras.metrics\n",
    "import numpy as np\n",
    "from keras.models import Sequential\n",
    "import keras.metrics\n",
    "from keras.layers import Dense\n",
    "import tensorflow as tf\n",
    "from sklearn.model_selection import train_test_split\n",
    "from sklearn.preprocessing import LabelEncoder, StandardScaler\n",
    "from sklearn.metrics import confusion_matrix"
   ]
  },
  {
   "cell_type": "code",
   "execution_count": 2,
   "id": "f8575d6f",
   "metadata": {
    "tags": []
   },
   "outputs": [],
   "source": [
    "# Set the maximum number of rows displayed\n",
    "pd.set_option('display.max_rows', 100)  # Adjust the number as needed\n",
    "\n",
    "# Set the maximum number of columns displayed\n",
    "pd.set_option('display.max_columns', 100)  # Adjust the number as needed"
   ]
  },
  {
   "cell_type": "markdown",
   "id": "e45491e1",
   "metadata": {},
   "source": [
    "## 2. Loading the dataset"
   ]
  },
  {
   "cell_type": "markdown",
   "id": "a2a06229",
   "metadata": {},
   "source": [
    "### 2.1  Specifying the number of rows included in dataset\n",
    "\n",
    "number_of_samples :                                                                                                                                    determines how many samples from the attack and normal dataset should be read and used."
   ]
  },
  {
   "cell_type": "code",
   "execution_count": 3,
   "id": "bde6be18",
   "metadata": {
    "tags": []
   },
   "outputs": [],
   "source": [
    "number_of_samples = 70000  "
   ]
  },
  {
   "cell_type": "markdown",
   "id": "6427167f",
   "metadata": {},
   "source": [
    "## 2.2 Reading the datasets and assigning columns"
   ]
  },
  {
   "cell_type": "code",
   "execution_count": 4,
   "id": "5ae60beb",
   "metadata": {
    "tags": []
   },
   "outputs": [],
   "source": [
    "data_attack = pd.read_csv('dataset_attack.csv', nrows = number_of_samples)"
   ]
  },
  {
   "cell_type": "code",
   "execution_count": 5,
   "id": "f772dabc",
   "metadata": {
    "tags": []
   },
   "outputs": [],
   "source": [
    "data_normal = pd.read_csv('dataset_normal.csv', nrows = number_of_samples)"
   ]
  },
  {
   "cell_type": "code",
   "execution_count": 6,
   "id": "1806c608",
   "metadata": {
    "tags": []
   },
   "outputs": [],
   "source": [
    "data_normal.columns=[ 'frame.len', 'frame.protocols', 'ip.hdr_len',\n",
    "       'ip.len', 'ip.flags.rb', 'ip.flags.df', 'p.flags.mf', 'ip.frag_offset',\n",
    "       'ip.ttl', 'ip.proto', 'ip.src', 'ip.dst', 'tcp.srcport', 'tcp.dstport',\n",
    "       'tcp.len', 'tcp.ack', 'tcp.flags.res', 'tcp.flags.ns', 'tcp.flags.cwr',\n",
    "       'tcp.flags.ecn', 'tcp.flags.urg', 'tcp.flags.ack', 'tcp.flags.push',\n",
    "       'tcp.flags.reset', 'tcp.flags.syn', 'tcp.flags.fin', 'tcp.window_size',\n",
    "       'tcp.time_delta','class']\n",
    "data_attack.columns=[ 'frame.len', 'frame.protocols', 'ip.hdr_len',\n",
    "       'ip.len', 'ip.flags.rb', 'ip.flags.df', 'p.flags.mf', 'ip.frag_offset',\n",
    "       'ip.ttl', 'ip.proto', 'ip.src', 'ip.dst', 'tcp.srcport', 'tcp.dstport',\n",
    "       'tcp.len', 'tcp.ack', 'tcp.flags.res', 'tcp.flags.ns', 'tcp.flags.cwr',\n",
    "       'tcp.flags.ecn', 'tcp.flags.urg', 'tcp.flags.ack', 'tcp.flags.push',\n",
    "       'tcp.flags.reset', 'tcp.flags.syn', 'tcp.flags.fin', 'tcp.window_size',\n",
    "       'tcp.time_delta','class']"
   ]
  },
  {
   "cell_type": "markdown",
   "id": "fbd6b21f",
   "metadata": {},
   "source": [
    "## 2.3 Dropping unwanted columns"
   ]
  },
  {
   "cell_type": "code",
   "execution_count": 7,
   "id": "77bae27e",
   "metadata": {
    "tags": []
   },
   "outputs": [],
   "source": [
    "data_normal=data_normal.drop(['ip.src', 'ip.dst','frame.protocols'],axis=1)\n",
    "data_attack=data_attack.drop(['ip.src', 'ip.dst','frame.protocols'],axis=1)"
   ]
  },
  {
   "cell_type": "code",
   "execution_count": 8,
   "id": "0da5b36f",
   "metadata": {
    "tags": []
   },
   "outputs": [],
   "source": [
    "features=[ 'frame.len', 'ip.hdr_len',\n",
    "       'ip.len', 'ip.flags.rb', 'ip.flags.df', 'p.flags.mf', 'ip.frag_offset',\n",
    "       'ip.ttl', 'ip.proto', 'tcp.srcport', 'tcp.dstport',\n",
    "       'tcp.len', 'tcp.ack', 'tcp.flags.res', 'tcp.flags.ns', 'tcp.flags.cwr',\n",
    "       'tcp.flags.ecn', 'tcp.flags.urg', 'tcp.flags.ack', 'tcp.flags.push',\n",
    "       'tcp.flags.reset', 'tcp.flags.syn', 'tcp.flags.fin', 'tcp.window_size',\n",
    "       'tcp.time_delta']"
   ]
  },
  {
   "cell_type": "markdown",
   "id": "51fcf62f",
   "metadata": {},
   "source": [
    "---"
   ]
  },
  {
   "cell_type": "markdown",
   "id": "0cb8831d",
   "metadata": {},
   "source": [
    "## 3. Exploratory Data Analysis"
   ]
  },
  {
   "cell_type": "code",
   "execution_count": 9,
   "id": "d814915c",
   "metadata": {
    "tags": []
   },
   "outputs": [
    {
     "data": {
      "text/html": [
       "<div>\n",
       "<style scoped>\n",
       "    .dataframe tbody tr th:only-of-type {\n",
       "        vertical-align: middle;\n",
       "    }\n",
       "\n",
       "    .dataframe tbody tr th {\n",
       "        vertical-align: top;\n",
       "    }\n",
       "\n",
       "    .dataframe thead th {\n",
       "        text-align: right;\n",
       "    }\n",
       "</style>\n",
       "<table border=\"1\" class=\"dataframe\">\n",
       "  <thead>\n",
       "    <tr style=\"text-align: right;\">\n",
       "      <th></th>\n",
       "      <th>frame.len</th>\n",
       "      <th>ip.hdr_len</th>\n",
       "      <th>ip.len</th>\n",
       "      <th>ip.flags.rb</th>\n",
       "      <th>ip.flags.df</th>\n",
       "      <th>p.flags.mf</th>\n",
       "      <th>ip.frag_offset</th>\n",
       "      <th>ip.ttl</th>\n",
       "      <th>ip.proto</th>\n",
       "      <th>tcp.srcport</th>\n",
       "      <th>tcp.dstport</th>\n",
       "      <th>tcp.len</th>\n",
       "      <th>tcp.ack</th>\n",
       "      <th>tcp.flags.res</th>\n",
       "      <th>tcp.flags.ns</th>\n",
       "      <th>tcp.flags.cwr</th>\n",
       "      <th>tcp.flags.ecn</th>\n",
       "      <th>tcp.flags.urg</th>\n",
       "      <th>tcp.flags.ack</th>\n",
       "      <th>tcp.flags.push</th>\n",
       "      <th>tcp.flags.reset</th>\n",
       "      <th>tcp.flags.syn</th>\n",
       "      <th>tcp.flags.fin</th>\n",
       "      <th>tcp.window_size</th>\n",
       "      <th>tcp.time_delta</th>\n",
       "    </tr>\n",
       "  </thead>\n",
       "  <tbody>\n",
       "    <tr>\n",
       "      <th>count</th>\n",
       "      <td>70000.000000</td>\n",
       "      <td>70000.000000</td>\n",
       "      <td>70000.000000</td>\n",
       "      <td>70000.0</td>\n",
       "      <td>70000.000000</td>\n",
       "      <td>70000.0</td>\n",
       "      <td>70000.0</td>\n",
       "      <td>70000.000000</td>\n",
       "      <td>70000.000000</td>\n",
       "      <td>70000.000000</td>\n",
       "      <td>70000.000000</td>\n",
       "      <td>70000.000000</td>\n",
       "      <td>7.000000e+04</td>\n",
       "      <td>70000.0</td>\n",
       "      <td>70000.0</td>\n",
       "      <td>70000.0</td>\n",
       "      <td>70000.0</td>\n",
       "      <td>70000.0</td>\n",
       "      <td>70000.000000</td>\n",
       "      <td>70000.000000</td>\n",
       "      <td>70000.000000</td>\n",
       "      <td>70000.000000</td>\n",
       "      <td>70000.000000</td>\n",
       "      <td>70000.000000</td>\n",
       "      <td>70000.000000</td>\n",
       "    </tr>\n",
       "    <tr>\n",
       "      <th>mean</th>\n",
       "      <td>674.386557</td>\n",
       "      <td>19.958571</td>\n",
       "      <td>658.444057</td>\n",
       "      <td>0.0</td>\n",
       "      <td>0.976786</td>\n",
       "      <td>0.0</td>\n",
       "      <td>0.0</td>\n",
       "      <td>91.715400</td>\n",
       "      <td>6.185614</td>\n",
       "      <td>2055.788714</td>\n",
       "      <td>4300.068886</td>\n",
       "      <td>616.324743</td>\n",
       "      <td>7.989599e+06</td>\n",
       "      <td>0.0</td>\n",
       "      <td>0.0</td>\n",
       "      <td>0.0</td>\n",
       "      <td>0.0</td>\n",
       "      <td>0.0</td>\n",
       "      <td>0.961543</td>\n",
       "      <td>0.273414</td>\n",
       "      <td>0.006671</td>\n",
       "      <td>0.030686</td>\n",
       "      <td>0.025143</td>\n",
       "      <td>14440.378557</td>\n",
       "      <td>0.410494</td>\n",
       "    </tr>\n",
       "    <tr>\n",
       "      <th>std</th>\n",
       "      <td>680.583272</td>\n",
       "      <td>0.909322</td>\n",
       "      <td>682.341868</td>\n",
       "      <td>0.0</td>\n",
       "      <td>0.150585</td>\n",
       "      <td>0.0</td>\n",
       "      <td>0.0</td>\n",
       "      <td>48.822167</td>\n",
       "      <td>1.491804</td>\n",
       "      <td>6216.739529</td>\n",
       "      <td>8010.195087</td>\n",
       "      <td>683.930735</td>\n",
       "      <td>1.529793e+08</td>\n",
       "      <td>0.0</td>\n",
       "      <td>0.0</td>\n",
       "      <td>0.0</td>\n",
       "      <td>0.0</td>\n",
       "      <td>0.0</td>\n",
       "      <td>0.192299</td>\n",
       "      <td>0.445715</td>\n",
       "      <td>0.081406</td>\n",
       "      <td>0.172466</td>\n",
       "      <td>0.156560</td>\n",
       "      <td>17104.069093</td>\n",
       "      <td>5.137949</td>\n",
       "    </tr>\n",
       "    <tr>\n",
       "      <th>min</th>\n",
       "      <td>60.000000</td>\n",
       "      <td>0.000000</td>\n",
       "      <td>0.000000</td>\n",
       "      <td>0.0</td>\n",
       "      <td>0.000000</td>\n",
       "      <td>0.0</td>\n",
       "      <td>0.0</td>\n",
       "      <td>0.000000</td>\n",
       "      <td>0.000000</td>\n",
       "      <td>0.000000</td>\n",
       "      <td>0.000000</td>\n",
       "      <td>0.000000</td>\n",
       "      <td>0.000000e+00</td>\n",
       "      <td>0.0</td>\n",
       "      <td>0.0</td>\n",
       "      <td>0.0</td>\n",
       "      <td>0.0</td>\n",
       "      <td>0.0</td>\n",
       "      <td>0.000000</td>\n",
       "      <td>0.000000</td>\n",
       "      <td>0.000000</td>\n",
       "      <td>0.000000</td>\n",
       "      <td>0.000000</td>\n",
       "      <td>0.000000</td>\n",
       "      <td>0.000000</td>\n",
       "    </tr>\n",
       "    <tr>\n",
       "      <th>25%</th>\n",
       "      <td>60.000000</td>\n",
       "      <td>20.000000</td>\n",
       "      <td>40.000000</td>\n",
       "      <td>0.0</td>\n",
       "      <td>1.000000</td>\n",
       "      <td>0.0</td>\n",
       "      <td>0.0</td>\n",
       "      <td>63.000000</td>\n",
       "      <td>6.000000</td>\n",
       "      <td>22.000000</td>\n",
       "      <td>80.000000</td>\n",
       "      <td>0.000000</td>\n",
       "      <td>3.440000e+02</td>\n",
       "      <td>0.0</td>\n",
       "      <td>0.0</td>\n",
       "      <td>0.0</td>\n",
       "      <td>0.0</td>\n",
       "      <td>0.0</td>\n",
       "      <td>1.000000</td>\n",
       "      <td>0.000000</td>\n",
       "      <td>0.000000</td>\n",
       "      <td>0.000000</td>\n",
       "      <td>0.000000</td>\n",
       "      <td>7504.000000</td>\n",
       "      <td>0.000161</td>\n",
       "    </tr>\n",
       "    <tr>\n",
       "      <th>50%</th>\n",
       "      <td>142.000000</td>\n",
       "      <td>20.000000</td>\n",
       "      <td>128.000000</td>\n",
       "      <td>0.0</td>\n",
       "      <td>1.000000</td>\n",
       "      <td>0.0</td>\n",
       "      <td>0.0</td>\n",
       "      <td>64.000000</td>\n",
       "      <td>6.000000</td>\n",
       "      <td>80.000000</td>\n",
       "      <td>2985.000000</td>\n",
       "      <td>80.000000</td>\n",
       "      <td>1.215000e+03</td>\n",
       "      <td>0.0</td>\n",
       "      <td>0.0</td>\n",
       "      <td>0.0</td>\n",
       "      <td>0.0</td>\n",
       "      <td>0.0</td>\n",
       "      <td>1.000000</td>\n",
       "      <td>0.000000</td>\n",
       "      <td>0.000000</td>\n",
       "      <td>0.000000</td>\n",
       "      <td>0.000000</td>\n",
       "      <td>7504.000000</td>\n",
       "      <td>0.001090</td>\n",
       "    </tr>\n",
       "    <tr>\n",
       "      <th>75%</th>\n",
       "      <td>1514.000000</td>\n",
       "      <td>20.000000</td>\n",
       "      <td>1500.000000</td>\n",
       "      <td>0.0</td>\n",
       "      <td>1.000000</td>\n",
       "      <td>0.0</td>\n",
       "      <td>0.0</td>\n",
       "      <td>128.000000</td>\n",
       "      <td>6.000000</td>\n",
       "      <td>2490.000000</td>\n",
       "      <td>4501.000000</td>\n",
       "      <td>1460.000000</td>\n",
       "      <td>2.151000e+03</td>\n",
       "      <td>0.0</td>\n",
       "      <td>0.0</td>\n",
       "      <td>0.0</td>\n",
       "      <td>0.0</td>\n",
       "      <td>0.0</td>\n",
       "      <td>1.000000</td>\n",
       "      <td>1.000000</td>\n",
       "      <td>0.000000</td>\n",
       "      <td>0.000000</td>\n",
       "      <td>0.000000</td>\n",
       "      <td>17224.000000</td>\n",
       "      <td>0.003445</td>\n",
       "    </tr>\n",
       "    <tr>\n",
       "      <th>max</th>\n",
       "      <td>1514.000000</td>\n",
       "      <td>20.000000</td>\n",
       "      <td>1500.000000</td>\n",
       "      <td>0.0</td>\n",
       "      <td>1.000000</td>\n",
       "      <td>0.0</td>\n",
       "      <td>0.0</td>\n",
       "      <td>255.000000</td>\n",
       "      <td>17.000000</td>\n",
       "      <td>58697.000000</td>\n",
       "      <td>58697.000000</td>\n",
       "      <td>1460.000000</td>\n",
       "      <td>4.271142e+09</td>\n",
       "      <td>0.0</td>\n",
       "      <td>0.0</td>\n",
       "      <td>0.0</td>\n",
       "      <td>0.0</td>\n",
       "      <td>0.0</td>\n",
       "      <td>1.000000</td>\n",
       "      <td>1.000000</td>\n",
       "      <td>1.000000</td>\n",
       "      <td>1.000000</td>\n",
       "      <td>1.000000</td>\n",
       "      <td>200020.000000</td>\n",
       "      <td>154.989781</td>\n",
       "    </tr>\n",
       "  </tbody>\n",
       "</table>\n",
       "</div>"
      ],
      "text/plain": [
       "          frame.len    ip.hdr_len        ip.len  ip.flags.rb   ip.flags.df  \\\n",
       "count  70000.000000  70000.000000  70000.000000      70000.0  70000.000000   \n",
       "mean     674.386557     19.958571    658.444057          0.0      0.976786   \n",
       "std      680.583272      0.909322    682.341868          0.0      0.150585   \n",
       "min       60.000000      0.000000      0.000000          0.0      0.000000   \n",
       "25%       60.000000     20.000000     40.000000          0.0      1.000000   \n",
       "50%      142.000000     20.000000    128.000000          0.0      1.000000   \n",
       "75%     1514.000000     20.000000   1500.000000          0.0      1.000000   \n",
       "max     1514.000000     20.000000   1500.000000          0.0      1.000000   \n",
       "\n",
       "       p.flags.mf  ip.frag_offset        ip.ttl      ip.proto   tcp.srcport  \\\n",
       "count     70000.0         70000.0  70000.000000  70000.000000  70000.000000   \n",
       "mean          0.0             0.0     91.715400      6.185614   2055.788714   \n",
       "std           0.0             0.0     48.822167      1.491804   6216.739529   \n",
       "min           0.0             0.0      0.000000      0.000000      0.000000   \n",
       "25%           0.0             0.0     63.000000      6.000000     22.000000   \n",
       "50%           0.0             0.0     64.000000      6.000000     80.000000   \n",
       "75%           0.0             0.0    128.000000      6.000000   2490.000000   \n",
       "max           0.0             0.0    255.000000     17.000000  58697.000000   \n",
       "\n",
       "        tcp.dstport       tcp.len       tcp.ack  tcp.flags.res  tcp.flags.ns  \\\n",
       "count  70000.000000  70000.000000  7.000000e+04        70000.0       70000.0   \n",
       "mean    4300.068886    616.324743  7.989599e+06            0.0           0.0   \n",
       "std     8010.195087    683.930735  1.529793e+08            0.0           0.0   \n",
       "min        0.000000      0.000000  0.000000e+00            0.0           0.0   \n",
       "25%       80.000000      0.000000  3.440000e+02            0.0           0.0   \n",
       "50%     2985.000000     80.000000  1.215000e+03            0.0           0.0   \n",
       "75%     4501.000000   1460.000000  2.151000e+03            0.0           0.0   \n",
       "max    58697.000000   1460.000000  4.271142e+09            0.0           0.0   \n",
       "\n",
       "       tcp.flags.cwr  tcp.flags.ecn  tcp.flags.urg  tcp.flags.ack  \\\n",
       "count        70000.0        70000.0        70000.0   70000.000000   \n",
       "mean             0.0            0.0            0.0       0.961543   \n",
       "std              0.0            0.0            0.0       0.192299   \n",
       "min              0.0            0.0            0.0       0.000000   \n",
       "25%              0.0            0.0            0.0       1.000000   \n",
       "50%              0.0            0.0            0.0       1.000000   \n",
       "75%              0.0            0.0            0.0       1.000000   \n",
       "max              0.0            0.0            0.0       1.000000   \n",
       "\n",
       "       tcp.flags.push  tcp.flags.reset  tcp.flags.syn  tcp.flags.fin  \\\n",
       "count    70000.000000     70000.000000   70000.000000   70000.000000   \n",
       "mean         0.273414         0.006671       0.030686       0.025143   \n",
       "std          0.445715         0.081406       0.172466       0.156560   \n",
       "min          0.000000         0.000000       0.000000       0.000000   \n",
       "25%          0.000000         0.000000       0.000000       0.000000   \n",
       "50%          0.000000         0.000000       0.000000       0.000000   \n",
       "75%          1.000000         0.000000       0.000000       0.000000   \n",
       "max          1.000000         1.000000       1.000000       1.000000   \n",
       "\n",
       "       tcp.window_size  tcp.time_delta  \n",
       "count     70000.000000    70000.000000  \n",
       "mean      14440.378557        0.410494  \n",
       "std       17104.069093        5.137949  \n",
       "min           0.000000        0.000000  \n",
       "25%        7504.000000        0.000161  \n",
       "50%        7504.000000        0.001090  \n",
       "75%       17224.000000        0.003445  \n",
       "max      200020.000000      154.989781  "
      ]
     },
     "execution_count": 9,
     "metadata": {},
     "output_type": "execute_result"
    }
   ],
   "source": [
    "data_normal.describe()"
   ]
  },
  {
   "cell_type": "code",
   "execution_count": 10,
   "id": "a8bf1488",
   "metadata": {
    "tags": []
   },
   "outputs": [
    {
     "data": {
      "text/html": [
       "<div>\n",
       "<style scoped>\n",
       "    .dataframe tbody tr th:only-of-type {\n",
       "        vertical-align: middle;\n",
       "    }\n",
       "\n",
       "    .dataframe tbody tr th {\n",
       "        vertical-align: top;\n",
       "    }\n",
       "\n",
       "    .dataframe thead th {\n",
       "        text-align: right;\n",
       "    }\n",
       "</style>\n",
       "<table border=\"1\" class=\"dataframe\">\n",
       "  <thead>\n",
       "    <tr style=\"text-align: right;\">\n",
       "      <th></th>\n",
       "      <th>frame.len</th>\n",
       "      <th>ip.hdr_len</th>\n",
       "      <th>ip.len</th>\n",
       "      <th>ip.flags.rb</th>\n",
       "      <th>ip.flags.df</th>\n",
       "      <th>p.flags.mf</th>\n",
       "      <th>ip.frag_offset</th>\n",
       "      <th>ip.ttl</th>\n",
       "      <th>ip.proto</th>\n",
       "      <th>tcp.srcport</th>\n",
       "      <th>tcp.dstport</th>\n",
       "      <th>tcp.len</th>\n",
       "      <th>tcp.ack</th>\n",
       "      <th>tcp.flags.res</th>\n",
       "      <th>tcp.flags.ns</th>\n",
       "      <th>tcp.flags.cwr</th>\n",
       "      <th>tcp.flags.ecn</th>\n",
       "      <th>tcp.flags.urg</th>\n",
       "      <th>tcp.flags.ack</th>\n",
       "      <th>tcp.flags.push</th>\n",
       "      <th>tcp.flags.reset</th>\n",
       "      <th>tcp.flags.syn</th>\n",
       "      <th>tcp.flags.fin</th>\n",
       "      <th>tcp.window_size</th>\n",
       "      <th>tcp.time_delta</th>\n",
       "    </tr>\n",
       "  </thead>\n",
       "  <tbody>\n",
       "    <tr>\n",
       "      <th>count</th>\n",
       "      <td>70000.000000</td>\n",
       "      <td>70000.000000</td>\n",
       "      <td>70000.000000</td>\n",
       "      <td>70000.0</td>\n",
       "      <td>70000.000000</td>\n",
       "      <td>70000.0</td>\n",
       "      <td>70000.0</td>\n",
       "      <td>70000.000000</td>\n",
       "      <td>70000.000000</td>\n",
       "      <td>70000.000000</td>\n",
       "      <td>70000.000000</td>\n",
       "      <td>70000.000000</td>\n",
       "      <td>7.000000e+04</td>\n",
       "      <td>70000.0</td>\n",
       "      <td>70000.0</td>\n",
       "      <td>70000.0</td>\n",
       "      <td>70000.0</td>\n",
       "      <td>70000.0</td>\n",
       "      <td>70000.000000</td>\n",
       "      <td>70000.000000</td>\n",
       "      <td>70000.000000</td>\n",
       "      <td>70000.000000</td>\n",
       "      <td>70000.000000</td>\n",
       "      <td>70000.000000</td>\n",
       "      <td>70000.000000</td>\n",
       "    </tr>\n",
       "    <tr>\n",
       "      <th>mean</th>\n",
       "      <td>554.187014</td>\n",
       "      <td>19.982400</td>\n",
       "      <td>538.921614</td>\n",
       "      <td>0.0</td>\n",
       "      <td>0.590857</td>\n",
       "      <td>0.0</td>\n",
       "      <td>0.0</td>\n",
       "      <td>97.806743</td>\n",
       "      <td>10.164700</td>\n",
       "      <td>6148.430143</td>\n",
       "      <td>6754.340800</td>\n",
       "      <td>354.288757</td>\n",
       "      <td>5.359247e+06</td>\n",
       "      <td>0.0</td>\n",
       "      <td>0.0</td>\n",
       "      <td>0.0</td>\n",
       "      <td>0.0</td>\n",
       "      <td>0.0</td>\n",
       "      <td>0.610214</td>\n",
       "      <td>0.174771</td>\n",
       "      <td>0.002371</td>\n",
       "      <td>0.017157</td>\n",
       "      <td>0.010000</td>\n",
       "      <td>12857.768829</td>\n",
       "      <td>0.106188</td>\n",
       "    </tr>\n",
       "    <tr>\n",
       "      <th>std</th>\n",
       "      <td>616.392870</td>\n",
       "      <td>0.595347</td>\n",
       "      <td>617.411984</td>\n",
       "      <td>0.0</td>\n",
       "      <td>0.491679</td>\n",
       "      <td>0.0</td>\n",
       "      <td>0.0</td>\n",
       "      <td>31.822304</td>\n",
       "      <td>5.344531</td>\n",
       "      <td>15938.833951</td>\n",
       "      <td>16201.683517</td>\n",
       "      <td>590.644170</td>\n",
       "      <td>1.310610e+08</td>\n",
       "      <td>0.0</td>\n",
       "      <td>0.0</td>\n",
       "      <td>0.0</td>\n",
       "      <td>0.0</td>\n",
       "      <td>0.0</td>\n",
       "      <td>0.487705</td>\n",
       "      <td>0.379774</td>\n",
       "      <td>0.048640</td>\n",
       "      <td>0.129858</td>\n",
       "      <td>0.099499</td>\n",
       "      <td>20343.668412</td>\n",
       "      <td>0.860466</td>\n",
       "    </tr>\n",
       "    <tr>\n",
       "      <th>min</th>\n",
       "      <td>60.000000</td>\n",
       "      <td>0.000000</td>\n",
       "      <td>0.000000</td>\n",
       "      <td>0.0</td>\n",
       "      <td>0.000000</td>\n",
       "      <td>0.0</td>\n",
       "      <td>0.0</td>\n",
       "      <td>0.000000</td>\n",
       "      <td>0.000000</td>\n",
       "      <td>0.000000</td>\n",
       "      <td>0.000000</td>\n",
       "      <td>0.000000</td>\n",
       "      <td>0.000000e+00</td>\n",
       "      <td>0.0</td>\n",
       "      <td>0.0</td>\n",
       "      <td>0.0</td>\n",
       "      <td>0.0</td>\n",
       "      <td>0.0</td>\n",
       "      <td>0.000000</td>\n",
       "      <td>0.000000</td>\n",
       "      <td>0.000000</td>\n",
       "      <td>0.000000</td>\n",
       "      <td>0.000000</td>\n",
       "      <td>0.000000</td>\n",
       "      <td>0.000000</td>\n",
       "    </tr>\n",
       "    <tr>\n",
       "      <th>25%</th>\n",
       "      <td>62.000000</td>\n",
       "      <td>20.000000</td>\n",
       "      <td>48.000000</td>\n",
       "      <td>0.0</td>\n",
       "      <td>0.000000</td>\n",
       "      <td>0.0</td>\n",
       "      <td>0.0</td>\n",
       "      <td>64.000000</td>\n",
       "      <td>6.000000</td>\n",
       "      <td>0.000000</td>\n",
       "      <td>0.000000</td>\n",
       "      <td>0.000000</td>\n",
       "      <td>0.000000e+00</td>\n",
       "      <td>0.0</td>\n",
       "      <td>0.0</td>\n",
       "      <td>0.0</td>\n",
       "      <td>0.0</td>\n",
       "      <td>0.0</td>\n",
       "      <td>0.000000</td>\n",
       "      <td>0.000000</td>\n",
       "      <td>0.000000</td>\n",
       "      <td>0.000000</td>\n",
       "      <td>0.000000</td>\n",
       "      <td>0.000000</td>\n",
       "      <td>0.000000</td>\n",
       "    </tr>\n",
       "    <tr>\n",
       "      <th>50%</th>\n",
       "      <td>190.000000</td>\n",
       "      <td>20.000000</td>\n",
       "      <td>176.000000</td>\n",
       "      <td>0.0</td>\n",
       "      <td>1.000000</td>\n",
       "      <td>0.0</td>\n",
       "      <td>0.0</td>\n",
       "      <td>110.000000</td>\n",
       "      <td>6.000000</td>\n",
       "      <td>22.000000</td>\n",
       "      <td>80.000000</td>\n",
       "      <td>0.000000</td>\n",
       "      <td>2.530000e+02</td>\n",
       "      <td>0.0</td>\n",
       "      <td>0.0</td>\n",
       "      <td>0.0</td>\n",
       "      <td>0.0</td>\n",
       "      <td>0.0</td>\n",
       "      <td>1.000000</td>\n",
       "      <td>0.000000</td>\n",
       "      <td>0.000000</td>\n",
       "      <td>0.000000</td>\n",
       "      <td>0.000000</td>\n",
       "      <td>7504.000000</td>\n",
       "      <td>0.000178</td>\n",
       "    </tr>\n",
       "    <tr>\n",
       "      <th>75%</th>\n",
       "      <td>1434.000000</td>\n",
       "      <td>20.000000</td>\n",
       "      <td>1420.000000</td>\n",
       "      <td>0.0</td>\n",
       "      <td>1.000000</td>\n",
       "      <td>0.0</td>\n",
       "      <td>0.0</td>\n",
       "      <td>128.000000</td>\n",
       "      <td>17.000000</td>\n",
       "      <td>2114.000000</td>\n",
       "      <td>3856.000000</td>\n",
       "      <td>512.000000</td>\n",
       "      <td>1.647000e+03</td>\n",
       "      <td>0.0</td>\n",
       "      <td>0.0</td>\n",
       "      <td>0.0</td>\n",
       "      <td>0.0</td>\n",
       "      <td>0.0</td>\n",
       "      <td>1.000000</td>\n",
       "      <td>0.000000</td>\n",
       "      <td>0.000000</td>\n",
       "      <td>0.000000</td>\n",
       "      <td>0.000000</td>\n",
       "      <td>16384.000000</td>\n",
       "      <td>0.001314</td>\n",
       "    </tr>\n",
       "    <tr>\n",
       "      <th>max</th>\n",
       "      <td>1514.000000</td>\n",
       "      <td>24.000000</td>\n",
       "      <td>1500.000000</td>\n",
       "      <td>0.0</td>\n",
       "      <td>1.000000</td>\n",
       "      <td>0.0</td>\n",
       "      <td>0.0</td>\n",
       "      <td>255.000000</td>\n",
       "      <td>17.000000</td>\n",
       "      <td>64277.000000</td>\n",
       "      <td>64277.000000</td>\n",
       "      <td>1460.000000</td>\n",
       "      <td>4.267535e+09</td>\n",
       "      <td>0.0</td>\n",
       "      <td>0.0</td>\n",
       "      <td>0.0</td>\n",
       "      <td>0.0</td>\n",
       "      <td>0.0</td>\n",
       "      <td>1.000000</td>\n",
       "      <td>1.000000</td>\n",
       "      <td>1.000000</td>\n",
       "      <td>1.000000</td>\n",
       "      <td>1.000000</td>\n",
       "      <td>100740.000000</td>\n",
       "      <td>77.630205</td>\n",
       "    </tr>\n",
       "  </tbody>\n",
       "</table>\n",
       "</div>"
      ],
      "text/plain": [
       "          frame.len    ip.hdr_len        ip.len  ip.flags.rb   ip.flags.df  \\\n",
       "count  70000.000000  70000.000000  70000.000000      70000.0  70000.000000   \n",
       "mean     554.187014     19.982400    538.921614          0.0      0.590857   \n",
       "std      616.392870      0.595347    617.411984          0.0      0.491679   \n",
       "min       60.000000      0.000000      0.000000          0.0      0.000000   \n",
       "25%       62.000000     20.000000     48.000000          0.0      0.000000   \n",
       "50%      190.000000     20.000000    176.000000          0.0      1.000000   \n",
       "75%     1434.000000     20.000000   1420.000000          0.0      1.000000   \n",
       "max     1514.000000     24.000000   1500.000000          0.0      1.000000   \n",
       "\n",
       "       p.flags.mf  ip.frag_offset        ip.ttl      ip.proto   tcp.srcport  \\\n",
       "count     70000.0         70000.0  70000.000000  70000.000000  70000.000000   \n",
       "mean          0.0             0.0     97.806743     10.164700   6148.430143   \n",
       "std           0.0             0.0     31.822304      5.344531  15938.833951   \n",
       "min           0.0             0.0      0.000000      0.000000      0.000000   \n",
       "25%           0.0             0.0     64.000000      6.000000      0.000000   \n",
       "50%           0.0             0.0    110.000000      6.000000     22.000000   \n",
       "75%           0.0             0.0    128.000000     17.000000   2114.000000   \n",
       "max           0.0             0.0    255.000000     17.000000  64277.000000   \n",
       "\n",
       "        tcp.dstport       tcp.len       tcp.ack  tcp.flags.res  tcp.flags.ns  \\\n",
       "count  70000.000000  70000.000000  7.000000e+04        70000.0       70000.0   \n",
       "mean    6754.340800    354.288757  5.359247e+06            0.0           0.0   \n",
       "std    16201.683517    590.644170  1.310610e+08            0.0           0.0   \n",
       "min        0.000000      0.000000  0.000000e+00            0.0           0.0   \n",
       "25%        0.000000      0.000000  0.000000e+00            0.0           0.0   \n",
       "50%       80.000000      0.000000  2.530000e+02            0.0           0.0   \n",
       "75%     3856.000000    512.000000  1.647000e+03            0.0           0.0   \n",
       "max    64277.000000   1460.000000  4.267535e+09            0.0           0.0   \n",
       "\n",
       "       tcp.flags.cwr  tcp.flags.ecn  tcp.flags.urg  tcp.flags.ack  \\\n",
       "count        70000.0        70000.0        70000.0   70000.000000   \n",
       "mean             0.0            0.0            0.0       0.610214   \n",
       "std              0.0            0.0            0.0       0.487705   \n",
       "min              0.0            0.0            0.0       0.000000   \n",
       "25%              0.0            0.0            0.0       0.000000   \n",
       "50%              0.0            0.0            0.0       1.000000   \n",
       "75%              0.0            0.0            0.0       1.000000   \n",
       "max              0.0            0.0            0.0       1.000000   \n",
       "\n",
       "       tcp.flags.push  tcp.flags.reset  tcp.flags.syn  tcp.flags.fin  \\\n",
       "count    70000.000000     70000.000000   70000.000000   70000.000000   \n",
       "mean         0.174771         0.002371       0.017157       0.010000   \n",
       "std          0.379774         0.048640       0.129858       0.099499   \n",
       "min          0.000000         0.000000       0.000000       0.000000   \n",
       "25%          0.000000         0.000000       0.000000       0.000000   \n",
       "50%          0.000000         0.000000       0.000000       0.000000   \n",
       "75%          0.000000         0.000000       0.000000       0.000000   \n",
       "max          1.000000         1.000000       1.000000       1.000000   \n",
       "\n",
       "       tcp.window_size  tcp.time_delta  \n",
       "count     70000.000000    70000.000000  \n",
       "mean      12857.768829        0.106188  \n",
       "std       20343.668412        0.860466  \n",
       "min           0.000000        0.000000  \n",
       "25%           0.000000        0.000000  \n",
       "50%        7504.000000        0.000178  \n",
       "75%       16384.000000        0.001314  \n",
       "max      100740.000000       77.630205  "
      ]
     },
     "execution_count": 10,
     "metadata": {},
     "output_type": "execute_result"
    }
   ],
   "source": [
    "data_attack.describe()"
   ]
  },
  {
   "cell_type": "code",
   "execution_count": 10,
   "id": "4be31fbe",
   "metadata": {
    "tags": []
   },
   "outputs": [],
   "source": [
    "combined_df = pd.concat([data_attack,data_normal], axis=0)\n",
    "\n",
    "\n",
    "combined_df = combined_df.reset_index(drop=True)"
   ]
  },
  {
   "cell_type": "markdown",
   "id": "a2a39d70",
   "metadata": {},
   "source": [
    "### 3.1 Number of null values :"
   ]
  },
  {
   "cell_type": "code",
   "execution_count": 11,
   "id": "28c105e6",
   "metadata": {},
   "outputs": [
    {
     "data": {
      "text/plain": [
       "0"
      ]
     },
     "execution_count": 11,
     "metadata": {},
     "output_type": "execute_result"
    }
   ],
   "source": [
    "combined_df.isnull().sum().sum()"
   ]
  },
  {
   "cell_type": "markdown",
   "id": "25c3d3f3",
   "metadata": {},
   "source": [
    "### 3.2 Correlations :"
   ]
  },
  {
   "cell_type": "code",
   "execution_count": 12,
   "id": "2eb416ac",
   "metadata": {
    "scrolled": true,
    "tags": []
   },
   "outputs": [
    {
     "name": "stderr",
     "output_type": "stream",
     "text": [
      "C:\\Users\\Asus\\AppData\\Local\\Temp\\ipykernel_13832\\2236743958.py:1: FutureWarning: The default value of numeric_only in DataFrame.corr is deprecated. In a future version, it will default to False. Select only valid columns or specify the value of numeric_only to silence this warning.\n",
      "  combined_df.corr()\n"
     ]
    },
    {
     "data": {
      "text/html": [
       "<div>\n",
       "<style scoped>\n",
       "    .dataframe tbody tr th:only-of-type {\n",
       "        vertical-align: middle;\n",
       "    }\n",
       "\n",
       "    .dataframe tbody tr th {\n",
       "        vertical-align: top;\n",
       "    }\n",
       "\n",
       "    .dataframe thead th {\n",
       "        text-align: right;\n",
       "    }\n",
       "</style>\n",
       "<table border=\"1\" class=\"dataframe\">\n",
       "  <thead>\n",
       "    <tr style=\"text-align: right;\">\n",
       "      <th></th>\n",
       "      <th>frame.len</th>\n",
       "      <th>ip.hdr_len</th>\n",
       "      <th>ip.len</th>\n",
       "      <th>ip.flags.rb</th>\n",
       "      <th>ip.flags.df</th>\n",
       "      <th>p.flags.mf</th>\n",
       "      <th>ip.frag_offset</th>\n",
       "      <th>ip.ttl</th>\n",
       "      <th>ip.proto</th>\n",
       "      <th>tcp.srcport</th>\n",
       "      <th>tcp.dstport</th>\n",
       "      <th>tcp.len</th>\n",
       "      <th>tcp.ack</th>\n",
       "      <th>tcp.flags.res</th>\n",
       "      <th>tcp.flags.ns</th>\n",
       "      <th>tcp.flags.cwr</th>\n",
       "      <th>tcp.flags.ecn</th>\n",
       "      <th>tcp.flags.urg</th>\n",
       "      <th>tcp.flags.ack</th>\n",
       "      <th>tcp.flags.push</th>\n",
       "      <th>tcp.flags.reset</th>\n",
       "      <th>tcp.flags.syn</th>\n",
       "      <th>tcp.flags.fin</th>\n",
       "      <th>tcp.window_size</th>\n",
       "      <th>tcp.time_delta</th>\n",
       "    </tr>\n",
       "  </thead>\n",
       "  <tbody>\n",
       "    <tr>\n",
       "      <th>frame.len</th>\n",
       "      <td>1.000000</td>\n",
       "      <td>0.032066</td>\n",
       "      <td>0.999988</td>\n",
       "      <td>NaN</td>\n",
       "      <td>0.170557</td>\n",
       "      <td>NaN</td>\n",
       "      <td>NaN</td>\n",
       "      <td>-0.297902</td>\n",
       "      <td>-0.144250</td>\n",
       "      <td>-0.008930</td>\n",
       "      <td>0.013566</td>\n",
       "      <td>0.914797</td>\n",
       "      <td>-0.039820</td>\n",
       "      <td>NaN</td>\n",
       "      <td>NaN</td>\n",
       "      <td>NaN</td>\n",
       "      <td>NaN</td>\n",
       "      <td>NaN</td>\n",
       "      <td>0.174383</td>\n",
       "      <td>-0.229308</td>\n",
       "      <td>-0.057289</td>\n",
       "      <td>-0.132540</td>\n",
       "      <td>-0.098756</td>\n",
       "      <td>-0.037415</td>\n",
       "      <td>-0.050896</td>\n",
       "    </tr>\n",
       "    <tr>\n",
       "      <th>ip.hdr_len</th>\n",
       "      <td>0.032066</td>\n",
       "      <td>1.000000</td>\n",
       "      <td>0.035187</td>\n",
       "      <td>NaN</td>\n",
       "      <td>0.073117</td>\n",
       "      <td>NaN</td>\n",
       "      <td>NaN</td>\n",
       "      <td>0.088062</td>\n",
       "      <td>0.071392</td>\n",
       "      <td>0.012838</td>\n",
       "      <td>0.016531</td>\n",
       "      <td>0.028569</td>\n",
       "      <td>0.001799</td>\n",
       "      <td>NaN</td>\n",
       "      <td>NaN</td>\n",
       "      <td>NaN</td>\n",
       "      <td>NaN</td>\n",
       "      <td>NaN</td>\n",
       "      <td>0.073564</td>\n",
       "      <td>0.020636</td>\n",
       "      <td>0.002588</td>\n",
       "      <td>0.006011</td>\n",
       "      <td>0.005135</td>\n",
       "      <td>0.027863</td>\n",
       "      <td>0.002691</td>\n",
       "    </tr>\n",
       "    <tr>\n",
       "      <th>ip.len</th>\n",
       "      <td>0.999988</td>\n",
       "      <td>0.035187</td>\n",
       "      <td>1.000000</td>\n",
       "      <td>NaN</td>\n",
       "      <td>0.169447</td>\n",
       "      <td>NaN</td>\n",
       "      <td>NaN</td>\n",
       "      <td>-0.297735</td>\n",
       "      <td>-0.142562</td>\n",
       "      <td>-0.008939</td>\n",
       "      <td>0.013103</td>\n",
       "      <td>0.914707</td>\n",
       "      <td>-0.040051</td>\n",
       "      <td>NaN</td>\n",
       "      <td>NaN</td>\n",
       "      <td>NaN</td>\n",
       "      <td>NaN</td>\n",
       "      <td>NaN</td>\n",
       "      <td>0.173126</td>\n",
       "      <td>-0.227514</td>\n",
       "      <td>-0.057623</td>\n",
       "      <td>-0.131898</td>\n",
       "      <td>-0.099252</td>\n",
       "      <td>-0.037808</td>\n",
       "      <td>-0.051004</td>\n",
       "    </tr>\n",
       "    <tr>\n",
       "      <th>ip.flags.rb</th>\n",
       "      <td>NaN</td>\n",
       "      <td>NaN</td>\n",
       "      <td>NaN</td>\n",
       "      <td>NaN</td>\n",
       "      <td>NaN</td>\n",
       "      <td>NaN</td>\n",
       "      <td>NaN</td>\n",
       "      <td>NaN</td>\n",
       "      <td>NaN</td>\n",
       "      <td>NaN</td>\n",
       "      <td>NaN</td>\n",
       "      <td>NaN</td>\n",
       "      <td>NaN</td>\n",
       "      <td>NaN</td>\n",
       "      <td>NaN</td>\n",
       "      <td>NaN</td>\n",
       "      <td>NaN</td>\n",
       "      <td>NaN</td>\n",
       "      <td>NaN</td>\n",
       "      <td>NaN</td>\n",
       "      <td>NaN</td>\n",
       "      <td>NaN</td>\n",
       "      <td>NaN</td>\n",
       "      <td>NaN</td>\n",
       "      <td>NaN</td>\n",
       "    </tr>\n",
       "    <tr>\n",
       "      <th>ip.flags.df</th>\n",
       "      <td>0.170557</td>\n",
       "      <td>0.073117</td>\n",
       "      <td>0.169447</td>\n",
       "      <td>NaN</td>\n",
       "      <td>1.000000</td>\n",
       "      <td>NaN</td>\n",
       "      <td>NaN</td>\n",
       "      <td>-0.179026</td>\n",
       "      <td>-0.882926</td>\n",
       "      <td>0.078342</td>\n",
       "      <td>0.113209</td>\n",
       "      <td>0.353865</td>\n",
       "      <td>0.020086</td>\n",
       "      <td>NaN</td>\n",
       "      <td>NaN</td>\n",
       "      <td>NaN</td>\n",
       "      <td>NaN</td>\n",
       "      <td>NaN</td>\n",
       "      <td>0.854673</td>\n",
       "      <td>0.247735</td>\n",
       "      <td>0.030996</td>\n",
       "      <td>0.079716</td>\n",
       "      <td>0.067593</td>\n",
       "      <td>0.274830</td>\n",
       "      <td>0.029434</td>\n",
       "    </tr>\n",
       "    <tr>\n",
       "      <th>p.flags.mf</th>\n",
       "      <td>NaN</td>\n",
       "      <td>NaN</td>\n",
       "      <td>NaN</td>\n",
       "      <td>NaN</td>\n",
       "      <td>NaN</td>\n",
       "      <td>NaN</td>\n",
       "      <td>NaN</td>\n",
       "      <td>NaN</td>\n",
       "      <td>NaN</td>\n",
       "      <td>NaN</td>\n",
       "      <td>NaN</td>\n",
       "      <td>NaN</td>\n",
       "      <td>NaN</td>\n",
       "      <td>NaN</td>\n",
       "      <td>NaN</td>\n",
       "      <td>NaN</td>\n",
       "      <td>NaN</td>\n",
       "      <td>NaN</td>\n",
       "      <td>NaN</td>\n",
       "      <td>NaN</td>\n",
       "      <td>NaN</td>\n",
       "      <td>NaN</td>\n",
       "      <td>NaN</td>\n",
       "      <td>NaN</td>\n",
       "      <td>NaN</td>\n",
       "    </tr>\n",
       "    <tr>\n",
       "      <th>ip.frag_offset</th>\n",
       "      <td>NaN</td>\n",
       "      <td>NaN</td>\n",
       "      <td>NaN</td>\n",
       "      <td>NaN</td>\n",
       "      <td>NaN</td>\n",
       "      <td>NaN</td>\n",
       "      <td>NaN</td>\n",
       "      <td>NaN</td>\n",
       "      <td>NaN</td>\n",
       "      <td>NaN</td>\n",
       "      <td>NaN</td>\n",
       "      <td>NaN</td>\n",
       "      <td>NaN</td>\n",
       "      <td>NaN</td>\n",
       "      <td>NaN</td>\n",
       "      <td>NaN</td>\n",
       "      <td>NaN</td>\n",
       "      <td>NaN</td>\n",
       "      <td>NaN</td>\n",
       "      <td>NaN</td>\n",
       "      <td>NaN</td>\n",
       "      <td>NaN</td>\n",
       "      <td>NaN</td>\n",
       "      <td>NaN</td>\n",
       "      <td>NaN</td>\n",
       "    </tr>\n",
       "    <tr>\n",
       "      <th>ip.ttl</th>\n",
       "      <td>-0.297902</td>\n",
       "      <td>0.088062</td>\n",
       "      <td>-0.297735</td>\n",
       "      <td>NaN</td>\n",
       "      <td>-0.179026</td>\n",
       "      <td>NaN</td>\n",
       "      <td>NaN</td>\n",
       "      <td>1.000000</td>\n",
       "      <td>0.227395</td>\n",
       "      <td>-0.001152</td>\n",
       "      <td>-0.082491</td>\n",
       "      <td>-0.327302</td>\n",
       "      <td>0.037687</td>\n",
       "      <td>NaN</td>\n",
       "      <td>NaN</td>\n",
       "      <td>NaN</td>\n",
       "      <td>NaN</td>\n",
       "      <td>NaN</td>\n",
       "      <td>-0.232401</td>\n",
       "      <td>-0.061961</td>\n",
       "      <td>0.036550</td>\n",
       "      <td>-0.019874</td>\n",
       "      <td>0.007291</td>\n",
       "      <td>0.092993</td>\n",
       "      <td>0.029685</td>\n",
       "    </tr>\n",
       "    <tr>\n",
       "      <th>ip.proto</th>\n",
       "      <td>-0.144250</td>\n",
       "      <td>0.071392</td>\n",
       "      <td>-0.142562</td>\n",
       "      <td>NaN</td>\n",
       "      <td>-0.882926</td>\n",
       "      <td>NaN</td>\n",
       "      <td>NaN</td>\n",
       "      <td>0.227395</td>\n",
       "      <td>1.000000</td>\n",
       "      <td>-0.165314</td>\n",
       "      <td>-0.212864</td>\n",
       "      <td>-0.367875</td>\n",
       "      <td>-0.023167</td>\n",
       "      <td>NaN</td>\n",
       "      <td>NaN</td>\n",
       "      <td>NaN</td>\n",
       "      <td>NaN</td>\n",
       "      <td>NaN</td>\n",
       "      <td>-0.947254</td>\n",
       "      <td>-0.265722</td>\n",
       "      <td>-0.033323</td>\n",
       "      <td>-0.077405</td>\n",
       "      <td>-0.066126</td>\n",
       "      <td>-0.358778</td>\n",
       "      <td>-0.034647</td>\n",
       "    </tr>\n",
       "    <tr>\n",
       "      <th>tcp.srcport</th>\n",
       "      <td>-0.008930</td>\n",
       "      <td>0.012838</td>\n",
       "      <td>-0.008939</td>\n",
       "      <td>NaN</td>\n",
       "      <td>0.078342</td>\n",
       "      <td>NaN</td>\n",
       "      <td>NaN</td>\n",
       "      <td>-0.001152</td>\n",
       "      <td>-0.165314</td>\n",
       "      <td>1.000000</td>\n",
       "      <td>-0.084651</td>\n",
       "      <td>0.028487</td>\n",
       "      <td>0.014640</td>\n",
       "      <td>NaN</td>\n",
       "      <td>NaN</td>\n",
       "      <td>NaN</td>\n",
       "      <td>NaN</td>\n",
       "      <td>NaN</td>\n",
       "      <td>0.154026</td>\n",
       "      <td>0.096364</td>\n",
       "      <td>0.030731</td>\n",
       "      <td>-0.006838</td>\n",
       "      <td>-0.004419</td>\n",
       "      <td>0.356642</td>\n",
       "      <td>0.020807</td>\n",
       "    </tr>\n",
       "    <tr>\n",
       "      <th>tcp.dstport</th>\n",
       "      <td>0.013566</td>\n",
       "      <td>0.016531</td>\n",
       "      <td>0.013103</td>\n",
       "      <td>NaN</td>\n",
       "      <td>0.113209</td>\n",
       "      <td>NaN</td>\n",
       "      <td>NaN</td>\n",
       "      <td>-0.082491</td>\n",
       "      <td>-0.212864</td>\n",
       "      <td>-0.084651</td>\n",
       "      <td>1.000000</td>\n",
       "      <td>0.061258</td>\n",
       "      <td>-0.019847</td>\n",
       "      <td>NaN</td>\n",
       "      <td>NaN</td>\n",
       "      <td>NaN</td>\n",
       "      <td>NaN</td>\n",
       "      <td>NaN</td>\n",
       "      <td>0.222323</td>\n",
       "      <td>0.003000</td>\n",
       "      <td>-0.023611</td>\n",
       "      <td>-0.007805</td>\n",
       "      <td>-0.021709</td>\n",
       "      <td>0.005452</td>\n",
       "      <td>0.000461</td>\n",
       "    </tr>\n",
       "    <tr>\n",
       "      <th>tcp.len</th>\n",
       "      <td>0.914797</td>\n",
       "      <td>0.028569</td>\n",
       "      <td>0.914707</td>\n",
       "      <td>NaN</td>\n",
       "      <td>0.353865</td>\n",
       "      <td>NaN</td>\n",
       "      <td>NaN</td>\n",
       "      <td>-0.327302</td>\n",
       "      <td>-0.367875</td>\n",
       "      <td>0.028487</td>\n",
       "      <td>0.061258</td>\n",
       "      <td>1.000000</td>\n",
       "      <td>-0.034851</td>\n",
       "      <td>NaN</td>\n",
       "      <td>NaN</td>\n",
       "      <td>NaN</td>\n",
       "      <td>NaN</td>\n",
       "      <td>NaN</td>\n",
       "      <td>0.388359</td>\n",
       "      <td>-0.167470</td>\n",
       "      <td>-0.050142</td>\n",
       "      <td>-0.116475</td>\n",
       "      <td>-0.084411</td>\n",
       "      <td>0.043423</td>\n",
       "      <td>-0.043216</td>\n",
       "    </tr>\n",
       "    <tr>\n",
       "      <th>tcp.ack</th>\n",
       "      <td>-0.039820</td>\n",
       "      <td>0.001799</td>\n",
       "      <td>-0.040051</td>\n",
       "      <td>NaN</td>\n",
       "      <td>0.020086</td>\n",
       "      <td>NaN</td>\n",
       "      <td>NaN</td>\n",
       "      <td>0.037687</td>\n",
       "      <td>-0.023167</td>\n",
       "      <td>0.014640</td>\n",
       "      <td>-0.019847</td>\n",
       "      <td>-0.034851</td>\n",
       "      <td>1.000000</td>\n",
       "      <td>NaN</td>\n",
       "      <td>NaN</td>\n",
       "      <td>NaN</td>\n",
       "      <td>NaN</td>\n",
       "      <td>NaN</td>\n",
       "      <td>-0.089044</td>\n",
       "      <td>-0.025100</td>\n",
       "      <td>0.690836</td>\n",
       "      <td>-0.007335</td>\n",
       "      <td>-0.006253</td>\n",
       "      <td>-0.033686</td>\n",
       "      <td>0.007545</td>\n",
       "    </tr>\n",
       "    <tr>\n",
       "      <th>tcp.flags.res</th>\n",
       "      <td>NaN</td>\n",
       "      <td>NaN</td>\n",
       "      <td>NaN</td>\n",
       "      <td>NaN</td>\n",
       "      <td>NaN</td>\n",
       "      <td>NaN</td>\n",
       "      <td>NaN</td>\n",
       "      <td>NaN</td>\n",
       "      <td>NaN</td>\n",
       "      <td>NaN</td>\n",
       "      <td>NaN</td>\n",
       "      <td>NaN</td>\n",
       "      <td>NaN</td>\n",
       "      <td>NaN</td>\n",
       "      <td>NaN</td>\n",
       "      <td>NaN</td>\n",
       "      <td>NaN</td>\n",
       "      <td>NaN</td>\n",
       "      <td>NaN</td>\n",
       "      <td>NaN</td>\n",
       "      <td>NaN</td>\n",
       "      <td>NaN</td>\n",
       "      <td>NaN</td>\n",
       "      <td>NaN</td>\n",
       "      <td>NaN</td>\n",
       "    </tr>\n",
       "    <tr>\n",
       "      <th>tcp.flags.ns</th>\n",
       "      <td>NaN</td>\n",
       "      <td>NaN</td>\n",
       "      <td>NaN</td>\n",
       "      <td>NaN</td>\n",
       "      <td>NaN</td>\n",
       "      <td>NaN</td>\n",
       "      <td>NaN</td>\n",
       "      <td>NaN</td>\n",
       "      <td>NaN</td>\n",
       "      <td>NaN</td>\n",
       "      <td>NaN</td>\n",
       "      <td>NaN</td>\n",
       "      <td>NaN</td>\n",
       "      <td>NaN</td>\n",
       "      <td>NaN</td>\n",
       "      <td>NaN</td>\n",
       "      <td>NaN</td>\n",
       "      <td>NaN</td>\n",
       "      <td>NaN</td>\n",
       "      <td>NaN</td>\n",
       "      <td>NaN</td>\n",
       "      <td>NaN</td>\n",
       "      <td>NaN</td>\n",
       "      <td>NaN</td>\n",
       "      <td>NaN</td>\n",
       "    </tr>\n",
       "    <tr>\n",
       "      <th>tcp.flags.cwr</th>\n",
       "      <td>NaN</td>\n",
       "      <td>NaN</td>\n",
       "      <td>NaN</td>\n",
       "      <td>NaN</td>\n",
       "      <td>NaN</td>\n",
       "      <td>NaN</td>\n",
       "      <td>NaN</td>\n",
       "      <td>NaN</td>\n",
       "      <td>NaN</td>\n",
       "      <td>NaN</td>\n",
       "      <td>NaN</td>\n",
       "      <td>NaN</td>\n",
       "      <td>NaN</td>\n",
       "      <td>NaN</td>\n",
       "      <td>NaN</td>\n",
       "      <td>NaN</td>\n",
       "      <td>NaN</td>\n",
       "      <td>NaN</td>\n",
       "      <td>NaN</td>\n",
       "      <td>NaN</td>\n",
       "      <td>NaN</td>\n",
       "      <td>NaN</td>\n",
       "      <td>NaN</td>\n",
       "      <td>NaN</td>\n",
       "      <td>NaN</td>\n",
       "    </tr>\n",
       "    <tr>\n",
       "      <th>tcp.flags.ecn</th>\n",
       "      <td>NaN</td>\n",
       "      <td>NaN</td>\n",
       "      <td>NaN</td>\n",
       "      <td>NaN</td>\n",
       "      <td>NaN</td>\n",
       "      <td>NaN</td>\n",
       "      <td>NaN</td>\n",
       "      <td>NaN</td>\n",
       "      <td>NaN</td>\n",
       "      <td>NaN</td>\n",
       "      <td>NaN</td>\n",
       "      <td>NaN</td>\n",
       "      <td>NaN</td>\n",
       "      <td>NaN</td>\n",
       "      <td>NaN</td>\n",
       "      <td>NaN</td>\n",
       "      <td>NaN</td>\n",
       "      <td>NaN</td>\n",
       "      <td>NaN</td>\n",
       "      <td>NaN</td>\n",
       "      <td>NaN</td>\n",
       "      <td>NaN</td>\n",
       "      <td>NaN</td>\n",
       "      <td>NaN</td>\n",
       "      <td>NaN</td>\n",
       "    </tr>\n",
       "    <tr>\n",
       "      <th>tcp.flags.urg</th>\n",
       "      <td>NaN</td>\n",
       "      <td>NaN</td>\n",
       "      <td>NaN</td>\n",
       "      <td>NaN</td>\n",
       "      <td>NaN</td>\n",
       "      <td>NaN</td>\n",
       "      <td>NaN</td>\n",
       "      <td>NaN</td>\n",
       "      <td>NaN</td>\n",
       "      <td>NaN</td>\n",
       "      <td>NaN</td>\n",
       "      <td>NaN</td>\n",
       "      <td>NaN</td>\n",
       "      <td>NaN</td>\n",
       "      <td>NaN</td>\n",
       "      <td>NaN</td>\n",
       "      <td>NaN</td>\n",
       "      <td>NaN</td>\n",
       "      <td>NaN</td>\n",
       "      <td>NaN</td>\n",
       "      <td>NaN</td>\n",
       "      <td>NaN</td>\n",
       "      <td>NaN</td>\n",
       "      <td>NaN</td>\n",
       "      <td>NaN</td>\n",
       "    </tr>\n",
       "    <tr>\n",
       "      <th>tcp.flags.ack</th>\n",
       "      <td>0.174383</td>\n",
       "      <td>0.073564</td>\n",
       "      <td>0.173126</td>\n",
       "      <td>NaN</td>\n",
       "      <td>0.854673</td>\n",
       "      <td>NaN</td>\n",
       "      <td>NaN</td>\n",
       "      <td>-0.232401</td>\n",
       "      <td>-0.947254</td>\n",
       "      <td>0.154026</td>\n",
       "      <td>0.222323</td>\n",
       "      <td>0.388359</td>\n",
       "      <td>-0.089044</td>\n",
       "      <td>NaN</td>\n",
       "      <td>NaN</td>\n",
       "      <td>NaN</td>\n",
       "      <td>NaN</td>\n",
       "      <td>NaN</td>\n",
       "      <td>1.000000</td>\n",
       "      <td>0.280518</td>\n",
       "      <td>-0.098487</td>\n",
       "      <td>-0.082492</td>\n",
       "      <td>0.069808</td>\n",
       "      <td>0.349971</td>\n",
       "      <td>0.032021</td>\n",
       "    </tr>\n",
       "    <tr>\n",
       "      <th>tcp.flags.push</th>\n",
       "      <td>-0.229308</td>\n",
       "      <td>0.020636</td>\n",
       "      <td>-0.227514</td>\n",
       "      <td>NaN</td>\n",
       "      <td>0.247735</td>\n",
       "      <td>NaN</td>\n",
       "      <td>NaN</td>\n",
       "      <td>-0.061961</td>\n",
       "      <td>-0.265722</td>\n",
       "      <td>0.096364</td>\n",
       "      <td>0.003000</td>\n",
       "      <td>-0.167470</td>\n",
       "      <td>-0.025100</td>\n",
       "      <td>NaN</td>\n",
       "      <td>NaN</td>\n",
       "      <td>NaN</td>\n",
       "      <td>NaN</td>\n",
       "      <td>NaN</td>\n",
       "      <td>0.280518</td>\n",
       "      <td>1.000000</td>\n",
       "      <td>-0.036219</td>\n",
       "      <td>-0.084132</td>\n",
       "      <td>-0.024676</td>\n",
       "      <td>0.135367</td>\n",
       "      <td>0.022309</td>\n",
       "    </tr>\n",
       "    <tr>\n",
       "      <th>tcp.flags.reset</th>\n",
       "      <td>-0.057289</td>\n",
       "      <td>0.002588</td>\n",
       "      <td>-0.057623</td>\n",
       "      <td>NaN</td>\n",
       "      <td>0.030996</td>\n",
       "      <td>NaN</td>\n",
       "      <td>NaN</td>\n",
       "      <td>0.036550</td>\n",
       "      <td>-0.033323</td>\n",
       "      <td>0.030731</td>\n",
       "      <td>-0.023611</td>\n",
       "      <td>-0.050142</td>\n",
       "      <td>0.690836</td>\n",
       "      <td>NaN</td>\n",
       "      <td>NaN</td>\n",
       "      <td>NaN</td>\n",
       "      <td>NaN</td>\n",
       "      <td>NaN</td>\n",
       "      <td>-0.098487</td>\n",
       "      <td>-0.036219</td>\n",
       "      <td>1.000000</td>\n",
       "      <td>-0.010551</td>\n",
       "      <td>-0.009013</td>\n",
       "      <td>-0.048287</td>\n",
       "      <td>0.040603</td>\n",
       "    </tr>\n",
       "    <tr>\n",
       "      <th>tcp.flags.syn</th>\n",
       "      <td>-0.132540</td>\n",
       "      <td>0.006011</td>\n",
       "      <td>-0.131898</td>\n",
       "      <td>NaN</td>\n",
       "      <td>0.079716</td>\n",
       "      <td>NaN</td>\n",
       "      <td>NaN</td>\n",
       "      <td>-0.019874</td>\n",
       "      <td>-0.077405</td>\n",
       "      <td>-0.006838</td>\n",
       "      <td>-0.007805</td>\n",
       "      <td>-0.116475</td>\n",
       "      <td>-0.007335</td>\n",
       "      <td>NaN</td>\n",
       "      <td>NaN</td>\n",
       "      <td>NaN</td>\n",
       "      <td>NaN</td>\n",
       "      <td>NaN</td>\n",
       "      <td>-0.082492</td>\n",
       "      <td>-0.084132</td>\n",
       "      <td>-0.010551</td>\n",
       "      <td>1.000000</td>\n",
       "      <td>-0.020937</td>\n",
       "      <td>0.030685</td>\n",
       "      <td>-0.008735</td>\n",
       "    </tr>\n",
       "    <tr>\n",
       "      <th>tcp.flags.fin</th>\n",
       "      <td>-0.098756</td>\n",
       "      <td>0.005135</td>\n",
       "      <td>-0.099252</td>\n",
       "      <td>NaN</td>\n",
       "      <td>0.067593</td>\n",
       "      <td>NaN</td>\n",
       "      <td>NaN</td>\n",
       "      <td>0.007291</td>\n",
       "      <td>-0.066126</td>\n",
       "      <td>-0.004419</td>\n",
       "      <td>-0.021709</td>\n",
       "      <td>-0.084411</td>\n",
       "      <td>-0.006253</td>\n",
       "      <td>NaN</td>\n",
       "      <td>NaN</td>\n",
       "      <td>NaN</td>\n",
       "      <td>NaN</td>\n",
       "      <td>NaN</td>\n",
       "      <td>0.069808</td>\n",
       "      <td>-0.024676</td>\n",
       "      <td>-0.009013</td>\n",
       "      <td>-0.020937</td>\n",
       "      <td>1.000000</td>\n",
       "      <td>0.069205</td>\n",
       "      <td>0.250852</td>\n",
       "    </tr>\n",
       "    <tr>\n",
       "      <th>tcp.window_size</th>\n",
       "      <td>-0.037415</td>\n",
       "      <td>0.027863</td>\n",
       "      <td>-0.037808</td>\n",
       "      <td>NaN</td>\n",
       "      <td>0.274830</td>\n",
       "      <td>NaN</td>\n",
       "      <td>NaN</td>\n",
       "      <td>0.092993</td>\n",
       "      <td>-0.358778</td>\n",
       "      <td>0.356642</td>\n",
       "      <td>0.005452</td>\n",
       "      <td>0.043423</td>\n",
       "      <td>-0.033686</td>\n",
       "      <td>NaN</td>\n",
       "      <td>NaN</td>\n",
       "      <td>NaN</td>\n",
       "      <td>NaN</td>\n",
       "      <td>NaN</td>\n",
       "      <td>0.349971</td>\n",
       "      <td>0.135367</td>\n",
       "      <td>-0.048287</td>\n",
       "      <td>0.030685</td>\n",
       "      <td>0.069205</td>\n",
       "      <td>1.000000</td>\n",
       "      <td>0.022758</td>\n",
       "    </tr>\n",
       "    <tr>\n",
       "      <th>tcp.time_delta</th>\n",
       "      <td>-0.050896</td>\n",
       "      <td>0.002691</td>\n",
       "      <td>-0.051004</td>\n",
       "      <td>NaN</td>\n",
       "      <td>0.029434</td>\n",
       "      <td>NaN</td>\n",
       "      <td>NaN</td>\n",
       "      <td>0.029685</td>\n",
       "      <td>-0.034647</td>\n",
       "      <td>0.020807</td>\n",
       "      <td>0.000461</td>\n",
       "      <td>-0.043216</td>\n",
       "      <td>0.007545</td>\n",
       "      <td>NaN</td>\n",
       "      <td>NaN</td>\n",
       "      <td>NaN</td>\n",
       "      <td>NaN</td>\n",
       "      <td>NaN</td>\n",
       "      <td>0.032021</td>\n",
       "      <td>0.022309</td>\n",
       "      <td>0.040603</td>\n",
       "      <td>-0.008735</td>\n",
       "      <td>0.250852</td>\n",
       "      <td>0.022758</td>\n",
       "      <td>1.000000</td>\n",
       "    </tr>\n",
       "  </tbody>\n",
       "</table>\n",
       "</div>"
      ],
      "text/plain": [
       "                 frame.len  ip.hdr_len    ip.len  ip.flags.rb  ip.flags.df  \\\n",
       "frame.len         1.000000    0.032066  0.999988          NaN     0.170557   \n",
       "ip.hdr_len        0.032066    1.000000  0.035187          NaN     0.073117   \n",
       "ip.len            0.999988    0.035187  1.000000          NaN     0.169447   \n",
       "ip.flags.rb            NaN         NaN       NaN          NaN          NaN   \n",
       "ip.flags.df       0.170557    0.073117  0.169447          NaN     1.000000   \n",
       "p.flags.mf             NaN         NaN       NaN          NaN          NaN   \n",
       "ip.frag_offset         NaN         NaN       NaN          NaN          NaN   \n",
       "ip.ttl           -0.297902    0.088062 -0.297735          NaN    -0.179026   \n",
       "ip.proto         -0.144250    0.071392 -0.142562          NaN    -0.882926   \n",
       "tcp.srcport      -0.008930    0.012838 -0.008939          NaN     0.078342   \n",
       "tcp.dstport       0.013566    0.016531  0.013103          NaN     0.113209   \n",
       "tcp.len           0.914797    0.028569  0.914707          NaN     0.353865   \n",
       "tcp.ack          -0.039820    0.001799 -0.040051          NaN     0.020086   \n",
       "tcp.flags.res          NaN         NaN       NaN          NaN          NaN   \n",
       "tcp.flags.ns           NaN         NaN       NaN          NaN          NaN   \n",
       "tcp.flags.cwr          NaN         NaN       NaN          NaN          NaN   \n",
       "tcp.flags.ecn          NaN         NaN       NaN          NaN          NaN   \n",
       "tcp.flags.urg          NaN         NaN       NaN          NaN          NaN   \n",
       "tcp.flags.ack     0.174383    0.073564  0.173126          NaN     0.854673   \n",
       "tcp.flags.push   -0.229308    0.020636 -0.227514          NaN     0.247735   \n",
       "tcp.flags.reset  -0.057289    0.002588 -0.057623          NaN     0.030996   \n",
       "tcp.flags.syn    -0.132540    0.006011 -0.131898          NaN     0.079716   \n",
       "tcp.flags.fin    -0.098756    0.005135 -0.099252          NaN     0.067593   \n",
       "tcp.window_size  -0.037415    0.027863 -0.037808          NaN     0.274830   \n",
       "tcp.time_delta   -0.050896    0.002691 -0.051004          NaN     0.029434   \n",
       "\n",
       "                 p.flags.mf  ip.frag_offset    ip.ttl  ip.proto  tcp.srcport  \\\n",
       "frame.len               NaN             NaN -0.297902 -0.144250    -0.008930   \n",
       "ip.hdr_len              NaN             NaN  0.088062  0.071392     0.012838   \n",
       "ip.len                  NaN             NaN -0.297735 -0.142562    -0.008939   \n",
       "ip.flags.rb             NaN             NaN       NaN       NaN          NaN   \n",
       "ip.flags.df             NaN             NaN -0.179026 -0.882926     0.078342   \n",
       "p.flags.mf              NaN             NaN       NaN       NaN          NaN   \n",
       "ip.frag_offset          NaN             NaN       NaN       NaN          NaN   \n",
       "ip.ttl                  NaN             NaN  1.000000  0.227395    -0.001152   \n",
       "ip.proto                NaN             NaN  0.227395  1.000000    -0.165314   \n",
       "tcp.srcport             NaN             NaN -0.001152 -0.165314     1.000000   \n",
       "tcp.dstport             NaN             NaN -0.082491 -0.212864    -0.084651   \n",
       "tcp.len                 NaN             NaN -0.327302 -0.367875     0.028487   \n",
       "tcp.ack                 NaN             NaN  0.037687 -0.023167     0.014640   \n",
       "tcp.flags.res           NaN             NaN       NaN       NaN          NaN   \n",
       "tcp.flags.ns            NaN             NaN       NaN       NaN          NaN   \n",
       "tcp.flags.cwr           NaN             NaN       NaN       NaN          NaN   \n",
       "tcp.flags.ecn           NaN             NaN       NaN       NaN          NaN   \n",
       "tcp.flags.urg           NaN             NaN       NaN       NaN          NaN   \n",
       "tcp.flags.ack           NaN             NaN -0.232401 -0.947254     0.154026   \n",
       "tcp.flags.push          NaN             NaN -0.061961 -0.265722     0.096364   \n",
       "tcp.flags.reset         NaN             NaN  0.036550 -0.033323     0.030731   \n",
       "tcp.flags.syn           NaN             NaN -0.019874 -0.077405    -0.006838   \n",
       "tcp.flags.fin           NaN             NaN  0.007291 -0.066126    -0.004419   \n",
       "tcp.window_size         NaN             NaN  0.092993 -0.358778     0.356642   \n",
       "tcp.time_delta          NaN             NaN  0.029685 -0.034647     0.020807   \n",
       "\n",
       "                 tcp.dstport   tcp.len   tcp.ack  tcp.flags.res  tcp.flags.ns  \\\n",
       "frame.len           0.013566  0.914797 -0.039820            NaN           NaN   \n",
       "ip.hdr_len          0.016531  0.028569  0.001799            NaN           NaN   \n",
       "ip.len              0.013103  0.914707 -0.040051            NaN           NaN   \n",
       "ip.flags.rb              NaN       NaN       NaN            NaN           NaN   \n",
       "ip.flags.df         0.113209  0.353865  0.020086            NaN           NaN   \n",
       "p.flags.mf               NaN       NaN       NaN            NaN           NaN   \n",
       "ip.frag_offset           NaN       NaN       NaN            NaN           NaN   \n",
       "ip.ttl             -0.082491 -0.327302  0.037687            NaN           NaN   \n",
       "ip.proto           -0.212864 -0.367875 -0.023167            NaN           NaN   \n",
       "tcp.srcport        -0.084651  0.028487  0.014640            NaN           NaN   \n",
       "tcp.dstport         1.000000  0.061258 -0.019847            NaN           NaN   \n",
       "tcp.len             0.061258  1.000000 -0.034851            NaN           NaN   \n",
       "tcp.ack            -0.019847 -0.034851  1.000000            NaN           NaN   \n",
       "tcp.flags.res            NaN       NaN       NaN            NaN           NaN   \n",
       "tcp.flags.ns             NaN       NaN       NaN            NaN           NaN   \n",
       "tcp.flags.cwr            NaN       NaN       NaN            NaN           NaN   \n",
       "tcp.flags.ecn            NaN       NaN       NaN            NaN           NaN   \n",
       "tcp.flags.urg            NaN       NaN       NaN            NaN           NaN   \n",
       "tcp.flags.ack       0.222323  0.388359 -0.089044            NaN           NaN   \n",
       "tcp.flags.push      0.003000 -0.167470 -0.025100            NaN           NaN   \n",
       "tcp.flags.reset    -0.023611 -0.050142  0.690836            NaN           NaN   \n",
       "tcp.flags.syn      -0.007805 -0.116475 -0.007335            NaN           NaN   \n",
       "tcp.flags.fin      -0.021709 -0.084411 -0.006253            NaN           NaN   \n",
       "tcp.window_size     0.005452  0.043423 -0.033686            NaN           NaN   \n",
       "tcp.time_delta      0.000461 -0.043216  0.007545            NaN           NaN   \n",
       "\n",
       "                 tcp.flags.cwr  tcp.flags.ecn  tcp.flags.urg  tcp.flags.ack  \\\n",
       "frame.len                  NaN            NaN            NaN       0.174383   \n",
       "ip.hdr_len                 NaN            NaN            NaN       0.073564   \n",
       "ip.len                     NaN            NaN            NaN       0.173126   \n",
       "ip.flags.rb                NaN            NaN            NaN            NaN   \n",
       "ip.flags.df                NaN            NaN            NaN       0.854673   \n",
       "p.flags.mf                 NaN            NaN            NaN            NaN   \n",
       "ip.frag_offset             NaN            NaN            NaN            NaN   \n",
       "ip.ttl                     NaN            NaN            NaN      -0.232401   \n",
       "ip.proto                   NaN            NaN            NaN      -0.947254   \n",
       "tcp.srcport                NaN            NaN            NaN       0.154026   \n",
       "tcp.dstport                NaN            NaN            NaN       0.222323   \n",
       "tcp.len                    NaN            NaN            NaN       0.388359   \n",
       "tcp.ack                    NaN            NaN            NaN      -0.089044   \n",
       "tcp.flags.res              NaN            NaN            NaN            NaN   \n",
       "tcp.flags.ns               NaN            NaN            NaN            NaN   \n",
       "tcp.flags.cwr              NaN            NaN            NaN            NaN   \n",
       "tcp.flags.ecn              NaN            NaN            NaN            NaN   \n",
       "tcp.flags.urg              NaN            NaN            NaN            NaN   \n",
       "tcp.flags.ack              NaN            NaN            NaN       1.000000   \n",
       "tcp.flags.push             NaN            NaN            NaN       0.280518   \n",
       "tcp.flags.reset            NaN            NaN            NaN      -0.098487   \n",
       "tcp.flags.syn              NaN            NaN            NaN      -0.082492   \n",
       "tcp.flags.fin              NaN            NaN            NaN       0.069808   \n",
       "tcp.window_size            NaN            NaN            NaN       0.349971   \n",
       "tcp.time_delta             NaN            NaN            NaN       0.032021   \n",
       "\n",
       "                 tcp.flags.push  tcp.flags.reset  tcp.flags.syn  \\\n",
       "frame.len             -0.229308        -0.057289      -0.132540   \n",
       "ip.hdr_len             0.020636         0.002588       0.006011   \n",
       "ip.len                -0.227514        -0.057623      -0.131898   \n",
       "ip.flags.rb                 NaN              NaN            NaN   \n",
       "ip.flags.df            0.247735         0.030996       0.079716   \n",
       "p.flags.mf                  NaN              NaN            NaN   \n",
       "ip.frag_offset              NaN              NaN            NaN   \n",
       "ip.ttl                -0.061961         0.036550      -0.019874   \n",
       "ip.proto              -0.265722        -0.033323      -0.077405   \n",
       "tcp.srcport            0.096364         0.030731      -0.006838   \n",
       "tcp.dstport            0.003000        -0.023611      -0.007805   \n",
       "tcp.len               -0.167470        -0.050142      -0.116475   \n",
       "tcp.ack               -0.025100         0.690836      -0.007335   \n",
       "tcp.flags.res               NaN              NaN            NaN   \n",
       "tcp.flags.ns                NaN              NaN            NaN   \n",
       "tcp.flags.cwr               NaN              NaN            NaN   \n",
       "tcp.flags.ecn               NaN              NaN            NaN   \n",
       "tcp.flags.urg               NaN              NaN            NaN   \n",
       "tcp.flags.ack          0.280518        -0.098487      -0.082492   \n",
       "tcp.flags.push         1.000000        -0.036219      -0.084132   \n",
       "tcp.flags.reset       -0.036219         1.000000      -0.010551   \n",
       "tcp.flags.syn         -0.084132        -0.010551       1.000000   \n",
       "tcp.flags.fin         -0.024676        -0.009013      -0.020937   \n",
       "tcp.window_size        0.135367        -0.048287       0.030685   \n",
       "tcp.time_delta         0.022309         0.040603      -0.008735   \n",
       "\n",
       "                 tcp.flags.fin  tcp.window_size  tcp.time_delta  \n",
       "frame.len            -0.098756        -0.037415       -0.050896  \n",
       "ip.hdr_len            0.005135         0.027863        0.002691  \n",
       "ip.len               -0.099252        -0.037808       -0.051004  \n",
       "ip.flags.rb                NaN              NaN             NaN  \n",
       "ip.flags.df           0.067593         0.274830        0.029434  \n",
       "p.flags.mf                 NaN              NaN             NaN  \n",
       "ip.frag_offset             NaN              NaN             NaN  \n",
       "ip.ttl                0.007291         0.092993        0.029685  \n",
       "ip.proto             -0.066126        -0.358778       -0.034647  \n",
       "tcp.srcport          -0.004419         0.356642        0.020807  \n",
       "tcp.dstport          -0.021709         0.005452        0.000461  \n",
       "tcp.len              -0.084411         0.043423       -0.043216  \n",
       "tcp.ack              -0.006253        -0.033686        0.007545  \n",
       "tcp.flags.res              NaN              NaN             NaN  \n",
       "tcp.flags.ns               NaN              NaN             NaN  \n",
       "tcp.flags.cwr              NaN              NaN             NaN  \n",
       "tcp.flags.ecn              NaN              NaN             NaN  \n",
       "tcp.flags.urg              NaN              NaN             NaN  \n",
       "tcp.flags.ack         0.069808         0.349971        0.032021  \n",
       "tcp.flags.push       -0.024676         0.135367        0.022309  \n",
       "tcp.flags.reset      -0.009013        -0.048287        0.040603  \n",
       "tcp.flags.syn        -0.020937         0.030685       -0.008735  \n",
       "tcp.flags.fin         1.000000         0.069205        0.250852  \n",
       "tcp.window_size       0.069205         1.000000        0.022758  \n",
       "tcp.time_delta        0.250852         0.022758        1.000000  "
      ]
     },
     "execution_count": 12,
     "metadata": {},
     "output_type": "execute_result"
    }
   ],
   "source": [
    "combined_df.corr()"
   ]
  },
  {
   "cell_type": "markdown",
   "id": "907529c7",
   "metadata": {},
   "source": [
    "### 3.3 Pairplots"
   ]
  },
  {
   "cell_type": "code",
   "execution_count": null,
   "id": "9f7cd281",
   "metadata": {
    "tags": []
   },
   "outputs": [],
   "source": [
    "# Create pairplots of the DataFrame\n",
    "sns.pairplot(combined_df)\n",
    "\n",
    "# Show the pairplots\n",
    "plt.show()"
   ]
  },
  {
   "cell_type": "markdown",
   "id": "348c3fb8",
   "metadata": {},
   "source": []
  },
  {
   "cell_type": "markdown",
   "id": "afc0568a",
   "metadata": {},
   "source": [
    "---"
   ]
  },
  {
   "cell_type": "markdown",
   "id": "e2801ec2",
   "metadata": {},
   "source": [
    "## 4. Preparing data for baseline models "
   ]
  },
  {
   "cell_type": "code",
   "execution_count": 12,
   "id": "2c6bb2cb",
   "metadata": {
    "tags": []
   },
   "outputs": [],
   "source": [
    "afeatures = features.copy()"
   ]
  },
  {
   "cell_type": "code",
   "execution_count": 13,
   "id": "46ab62b5",
   "metadata": {
    "tags": []
   },
   "outputs": [],
   "source": [
    "afeatures.append('class')"
   ]
  },
  {
   "cell_type": "markdown",
   "id": "bb05a841",
   "metadata": {},
   "source": [
    "### 4.1 Combining the two datasets :"
   ]
  },
  {
   "cell_type": "code",
   "execution_count": 14,
   "id": "1c7c90f7",
   "metadata": {
    "tags": []
   },
   "outputs": [],
   "source": [
    "total_ds = pd.concat([data_normal, data_attack], ignore_index=True)"
   ]
  },
  {
   "cell_type": "markdown",
   "id": "0078d4dc",
   "metadata": {},
   "source": [
    "### 4.2 Splitting to input and target features :"
   ]
  },
  {
   "cell_type": "code",
   "execution_count": 16,
   "id": "5f56f2d0",
   "metadata": {
    "tags": []
   },
   "outputs": [],
   "source": [
    "X = total_ds.drop('class', axis=1)\n",
    "Y = total_ds['class'] "
   ]
  },
  {
   "cell_type": "code",
   "execution_count": 17,
   "id": "4a7ba343",
   "metadata": {
    "tags": []
   },
   "outputs": [],
   "source": [
    "Y = Y.replace({'normal': 0, 'attack': 1})"
   ]
  },
  {
   "cell_type": "markdown",
   "id": "4eed7c33",
   "metadata": {},
   "source": [
    "### 4.3 Standardizing and scaling the values"
   ]
  },
  {
   "cell_type": "code",
   "execution_count": 18,
   "id": "ac50779b",
   "metadata": {
    "tags": []
   },
   "outputs": [],
   "source": [
    "scalar = StandardScaler(copy=True, with_mean=True, with_std=True)\n",
    "scalar.fit(X)\n",
    "X = scalar.transform(X)"
   ]
  },
  {
   "cell_type": "markdown",
   "id": "2267c867",
   "metadata": {},
   "source": [
    "### 4.4 Splitting to training and testing sets "
   ]
  },
  {
   "cell_type": "code",
   "execution_count": 19,
   "id": "66ebe200",
   "metadata": {
    "tags": []
   },
   "outputs": [],
   "source": [
    "X_train, X_test, y_train, y_test = train_test_split(X, Y, test_size=0.4, random_state=42)"
   ]
  },
  {
   "cell_type": "markdown",
   "id": "cea0add7",
   "metadata": {},
   "source": [
    "---"
   ]
  },
  {
   "cell_type": "markdown",
   "id": "8329a4b4",
   "metadata": {},
   "source": [
    "## 5. Training and testing on baseline models"
   ]
  },
  {
   "cell_type": "markdown",
   "id": "e8f47f13",
   "metadata": {},
   "source": [
    "### 5.1 Random Forest Classifier"
   ]
  },
  {
   "cell_type": "code",
   "execution_count": 20,
   "id": "b71a8600",
   "metadata": {},
   "outputs": [],
   "source": [
    "rf_classifier = RandomForestClassifier(n_estimators=100, random_state=42)"
   ]
  },
  {
   "cell_type": "code",
   "execution_count": 21,
   "id": "9ca456ba",
   "metadata": {},
   "outputs": [
    {
     "data": {
      "text/html": [
       "<style>#sk-container-id-1 {color: black;}#sk-container-id-1 pre{padding: 0;}#sk-container-id-1 div.sk-toggleable {background-color: white;}#sk-container-id-1 label.sk-toggleable__label {cursor: pointer;display: block;width: 100%;margin-bottom: 0;padding: 0.3em;box-sizing: border-box;text-align: center;}#sk-container-id-1 label.sk-toggleable__label-arrow:before {content: \"▸\";float: left;margin-right: 0.25em;color: #696969;}#sk-container-id-1 label.sk-toggleable__label-arrow:hover:before {color: black;}#sk-container-id-1 div.sk-estimator:hover label.sk-toggleable__label-arrow:before {color: black;}#sk-container-id-1 div.sk-toggleable__content {max-height: 0;max-width: 0;overflow: hidden;text-align: left;background-color: #f0f8ff;}#sk-container-id-1 div.sk-toggleable__content pre {margin: 0.2em;color: black;border-radius: 0.25em;background-color: #f0f8ff;}#sk-container-id-1 input.sk-toggleable__control:checked~div.sk-toggleable__content {max-height: 200px;max-width: 100%;overflow: auto;}#sk-container-id-1 input.sk-toggleable__control:checked~label.sk-toggleable__label-arrow:before {content: \"▾\";}#sk-container-id-1 div.sk-estimator input.sk-toggleable__control:checked~label.sk-toggleable__label {background-color: #d4ebff;}#sk-container-id-1 div.sk-label input.sk-toggleable__control:checked~label.sk-toggleable__label {background-color: #d4ebff;}#sk-container-id-1 input.sk-hidden--visually {border: 0;clip: rect(1px 1px 1px 1px);clip: rect(1px, 1px, 1px, 1px);height: 1px;margin: -1px;overflow: hidden;padding: 0;position: absolute;width: 1px;}#sk-container-id-1 div.sk-estimator {font-family: monospace;background-color: #f0f8ff;border: 1px dotted black;border-radius: 0.25em;box-sizing: border-box;margin-bottom: 0.5em;}#sk-container-id-1 div.sk-estimator:hover {background-color: #d4ebff;}#sk-container-id-1 div.sk-parallel-item::after {content: \"\";width: 100%;border-bottom: 1px solid gray;flex-grow: 1;}#sk-container-id-1 div.sk-label:hover label.sk-toggleable__label {background-color: #d4ebff;}#sk-container-id-1 div.sk-serial::before {content: \"\";position: absolute;border-left: 1px solid gray;box-sizing: border-box;top: 0;bottom: 0;left: 50%;z-index: 0;}#sk-container-id-1 div.sk-serial {display: flex;flex-direction: column;align-items: center;background-color: white;padding-right: 0.2em;padding-left: 0.2em;position: relative;}#sk-container-id-1 div.sk-item {position: relative;z-index: 1;}#sk-container-id-1 div.sk-parallel {display: flex;align-items: stretch;justify-content: center;background-color: white;position: relative;}#sk-container-id-1 div.sk-item::before, #sk-container-id-1 div.sk-parallel-item::before {content: \"\";position: absolute;border-left: 1px solid gray;box-sizing: border-box;top: 0;bottom: 0;left: 50%;z-index: -1;}#sk-container-id-1 div.sk-parallel-item {display: flex;flex-direction: column;z-index: 1;position: relative;background-color: white;}#sk-container-id-1 div.sk-parallel-item:first-child::after {align-self: flex-end;width: 50%;}#sk-container-id-1 div.sk-parallel-item:last-child::after {align-self: flex-start;width: 50%;}#sk-container-id-1 div.sk-parallel-item:only-child::after {width: 0;}#sk-container-id-1 div.sk-dashed-wrapped {border: 1px dashed gray;margin: 0 0.4em 0.5em 0.4em;box-sizing: border-box;padding-bottom: 0.4em;background-color: white;}#sk-container-id-1 div.sk-label label {font-family: monospace;font-weight: bold;display: inline-block;line-height: 1.2em;}#sk-container-id-1 div.sk-label-container {text-align: center;}#sk-container-id-1 div.sk-container {/* jupyter's `normalize.less` sets `[hidden] { display: none; }` but bootstrap.min.css set `[hidden] { display: none !important; }` so we also need the `!important` here to be able to override the default hidden behavior on the sphinx rendered scikit-learn.org. See: https://github.com/scikit-learn/scikit-learn/issues/21755 */display: inline-block !important;position: relative;}#sk-container-id-1 div.sk-text-repr-fallback {display: none;}</style><div id=\"sk-container-id-1\" class=\"sk-top-container\"><div class=\"sk-text-repr-fallback\"><pre>RandomForestClassifier(random_state=42)</pre><b>In a Jupyter environment, please rerun this cell to show the HTML representation or trust the notebook. <br />On GitHub, the HTML representation is unable to render, please try loading this page with nbviewer.org.</b></div><div class=\"sk-container\" hidden><div class=\"sk-item\"><div class=\"sk-estimator sk-toggleable\"><input class=\"sk-toggleable__control sk-hidden--visually\" id=\"sk-estimator-id-1\" type=\"checkbox\" checked><label for=\"sk-estimator-id-1\" class=\"sk-toggleable__label sk-toggleable__label-arrow\">RandomForestClassifier</label><div class=\"sk-toggleable__content\"><pre>RandomForestClassifier(random_state=42)</pre></div></div></div></div></div>"
      ],
      "text/plain": [
       "RandomForestClassifier(random_state=42)"
      ]
     },
     "execution_count": 21,
     "metadata": {},
     "output_type": "execute_result"
    }
   ],
   "source": [
    "rf_classifier.fit(X_train, y_train)"
   ]
  },
  {
   "cell_type": "code",
   "execution_count": 22,
   "id": "b080ecc8",
   "metadata": {},
   "outputs": [],
   "source": [
    "rf_y_pred = rf_classifier.predict(X_test)"
   ]
  },
  {
   "cell_type": "markdown",
   "id": "a68ecba1",
   "metadata": {},
   "source": [
    "#### Evaluating performance :"
   ]
  },
  {
   "cell_type": "code",
   "execution_count": 23,
   "id": "31bb5586",
   "metadata": {},
   "outputs": [
    {
     "name": "stdout",
     "output_type": "stream",
     "text": [
      "              precision    recall  f1-score   support\n",
      "\n",
      "           0       0.96      0.98      0.97     28012\n",
      "           1       0.98      0.96      0.97     27988\n",
      "\n",
      "    accuracy                           0.97     56000\n",
      "   macro avg       0.97      0.97      0.97     56000\n",
      "weighted avg       0.97      0.97      0.97     56000\n",
      "\n"
     ]
    }
   ],
   "source": [
    "# Print classification report\n",
    "print(classification_report(y_test,rf_y_pred))"
   ]
  },
  {
   "cell_type": "code",
   "execution_count": 24,
   "id": "9ad0d7cf",
   "metadata": {},
   "outputs": [
    {
     "name": "stdout",
     "output_type": "stream",
     "text": [
      "Confusion Matrix:\n",
      "[[27333   679]\n",
      " [ 1238 26750]]\n"
     ]
    }
   ],
   "source": [
    "# Confusion matrix\n",
    "print(\"Confusion Matrix:\")\n",
    "print(confusion_matrix(y_test,rf_y_pred))"
   ]
  },
  {
   "cell_type": "code",
   "execution_count": 25,
   "id": "8fcd3387",
   "metadata": {},
   "outputs": [
    {
     "name": "stdout",
     "output_type": "stream",
     "text": [
      "Accuracy: 0.9657678571428572\n"
     ]
    }
   ],
   "source": [
    "# Accuracy\n",
    "accuracy = accuracy_score(y_test,rf_y_pred)\n",
    "print(\"Accuracy:\", accuracy)"
   ]
  },
  {
   "cell_type": "code",
   "execution_count": 26,
   "id": "2b2444ef",
   "metadata": {},
   "outputs": [
    {
     "name": "stdout",
     "output_type": "stream",
     "text": [
      "0.9557667571816493\n"
     ]
    }
   ],
   "source": [
    "# Recall\n",
    "rf_recall = sklearn.metrics.recall_score(y_test,rf_y_pred)\n",
    "print(rf_recall)"
   ]
  },
  {
   "cell_type": "code",
   "execution_count": 27,
   "id": "e789c3e8",
   "metadata": {},
   "outputs": [
    {
     "name": "stdout",
     "output_type": "stream",
     "text": [
      "0.9752451784607532\n"
     ]
    }
   ],
   "source": [
    "# Precision\n",
    "rf_precision = sklearn.metrics.precision_score(y_test,rf_y_pred)\n",
    "print(rf_precision)"
   ]
  },
  {
   "cell_type": "code",
   "execution_count": 28,
   "id": "1eadb106",
   "metadata": {},
   "outputs": [
    {
     "data": {
      "image/png": "[encoded data removed]",
      "text/plain": [
       "<Figure size 800x600 with 2 Axes>"
      ]
     },
     "metadata": {},
     "output_type": "display_data"
    }
   ],
   "source": [
    "# Plot confusion matrix\n",
    "rf_cm = confusion_matrix(y_test,rf_y_pred)\n",
    "plt.figure(figsize=(8, 6))\n",
    "sns.heatmap(rf_cm, annot=True, cmap='Reds', fmt='g', \n",
    "            xticklabels=['Predicted Normal', 'Predicted Attack'], \n",
    "            yticklabels=['Actual Normal', 'Actual Attack'])\n",
    "plt.xlabel('Predicted labels')\n",
    "plt.ylabel('True labels')\n",
    "plt.title('Confusion Matrix for Random Forest classifier')\n",
    "plt.savefig('Confusion Matrix for Random Forest classifier.jpg')\n",
    "plt.show()"
   ]
  },
  {
   "cell_type": "markdown",
   "id": "03f51b6b",
   "metadata": {},
   "source": [
    "### 5.2 Logistic Regression :"
   ]
  },
  {
   "cell_type": "code",
   "execution_count": 29,
   "id": "6556628b",
   "metadata": {},
   "outputs": [],
   "source": [
    "modelL = LogisticRegression()"
   ]
  },
  {
   "cell_type": "code",
   "execution_count": 30,
   "id": "4a96108d",
   "metadata": {},
   "outputs": [
    {
     "data": {
      "text/html": [
       "<style>#sk-container-id-2 {color: black;}#sk-container-id-2 pre{padding: 0;}#sk-container-id-2 div.sk-toggleable {background-color: white;}#sk-container-id-2 label.sk-toggleable__label {cursor: pointer;display: block;width: 100%;margin-bottom: 0;padding: 0.3em;box-sizing: border-box;text-align: center;}#sk-container-id-2 label.sk-toggleable__label-arrow:before {content: \"▸\";float: left;margin-right: 0.25em;color: #696969;}#sk-container-id-2 label.sk-toggleable__label-arrow:hover:before {color: black;}#sk-container-id-2 div.sk-estimator:hover label.sk-toggleable__label-arrow:before {color: black;}#sk-container-id-2 div.sk-toggleable__content {max-height: 0;max-width: 0;overflow: hidden;text-align: left;background-color: #f0f8ff;}#sk-container-id-2 div.sk-toggleable__content pre {margin: 0.2em;color: black;border-radius: 0.25em;background-color: #f0f8ff;}#sk-container-id-2 input.sk-toggleable__control:checked~div.sk-toggleable__content {max-height: 200px;max-width: 100%;overflow: auto;}#sk-container-id-2 input.sk-toggleable__control:checked~label.sk-toggleable__label-arrow:before {content: \"▾\";}#sk-container-id-2 div.sk-estimator input.sk-toggleable__control:checked~label.sk-toggleable__label {background-color: #d4ebff;}#sk-container-id-2 div.sk-label input.sk-toggleable__control:checked~label.sk-toggleable__label {background-color: #d4ebff;}#sk-container-id-2 input.sk-hidden--visually {border: 0;clip: rect(1px 1px 1px 1px);clip: rect(1px, 1px, 1px, 1px);height: 1px;margin: -1px;overflow: hidden;padding: 0;position: absolute;width: 1px;}#sk-container-id-2 div.sk-estimator {font-family: monospace;background-color: #f0f8ff;border: 1px dotted black;border-radius: 0.25em;box-sizing: border-box;margin-bottom: 0.5em;}#sk-container-id-2 div.sk-estimator:hover {background-color: #d4ebff;}#sk-container-id-2 div.sk-parallel-item::after {content: \"\";width: 100%;border-bottom: 1px solid gray;flex-grow: 1;}#sk-container-id-2 div.sk-label:hover label.sk-toggleable__label {background-color: #d4ebff;}#sk-container-id-2 div.sk-serial::before {content: \"\";position: absolute;border-left: 1px solid gray;box-sizing: border-box;top: 0;bottom: 0;left: 50%;z-index: 0;}#sk-container-id-2 div.sk-serial {display: flex;flex-direction: column;align-items: center;background-color: white;padding-right: 0.2em;padding-left: 0.2em;position: relative;}#sk-container-id-2 div.sk-item {position: relative;z-index: 1;}#sk-container-id-2 div.sk-parallel {display: flex;align-items: stretch;justify-content: center;background-color: white;position: relative;}#sk-container-id-2 div.sk-item::before, #sk-container-id-2 div.sk-parallel-item::before {content: \"\";position: absolute;border-left: 1px solid gray;box-sizing: border-box;top: 0;bottom: 0;left: 50%;z-index: -1;}#sk-container-id-2 div.sk-parallel-item {display: flex;flex-direction: column;z-index: 1;position: relative;background-color: white;}#sk-container-id-2 div.sk-parallel-item:first-child::after {align-self: flex-end;width: 50%;}#sk-container-id-2 div.sk-parallel-item:last-child::after {align-self: flex-start;width: 50%;}#sk-container-id-2 div.sk-parallel-item:only-child::after {width: 0;}#sk-container-id-2 div.sk-dashed-wrapped {border: 1px dashed gray;margin: 0 0.4em 0.5em 0.4em;box-sizing: border-box;padding-bottom: 0.4em;background-color: white;}#sk-container-id-2 div.sk-label label {font-family: monospace;font-weight: bold;display: inline-block;line-height: 1.2em;}#sk-container-id-2 div.sk-label-container {text-align: center;}#sk-container-id-2 div.sk-container {/* jupyter's `normalize.less` sets `[hidden] { display: none; }` but bootstrap.min.css set `[hidden] { display: none !important; }` so we also need the `!important` here to be able to override the default hidden behavior on the sphinx rendered scikit-learn.org. See: https://github.com/scikit-learn/scikit-learn/issues/21755 */display: inline-block !important;position: relative;}#sk-container-id-2 div.sk-text-repr-fallback {display: none;}</style><div id=\"sk-container-id-2\" class=\"sk-top-container\"><div class=\"sk-text-repr-fallback\"><pre>LogisticRegression()</pre><b>In a Jupyter environment, please rerun this cell to show the HTML representation or trust the notebook. <br />On GitHub, the HTML representation is unable to render, please try loading this page with nbviewer.org.</b></div><div class=\"sk-container\" hidden><div class=\"sk-item\"><div class=\"sk-estimator sk-toggleable\"><input class=\"sk-toggleable__control sk-hidden--visually\" id=\"sk-estimator-id-2\" type=\"checkbox\" checked><label for=\"sk-estimator-id-2\" class=\"sk-toggleable__label sk-toggleable__label-arrow\">LogisticRegression</label><div class=\"sk-toggleable__content\"><pre>LogisticRegression()</pre></div></div></div></div></div>"
      ],
      "text/plain": [
       "LogisticRegression()"
      ]
     },
     "execution_count": 30,
     "metadata": {},
     "output_type": "execute_result"
    }
   ],
   "source": [
    "modelL.fit(X_train, y_train)"
   ]
  },
  {
   "cell_type": "code",
   "execution_count": 31,
   "id": "d93d7704",
   "metadata": {},
   "outputs": [],
   "source": [
    "LR_y_pred = modelL.predict(X_test)"
   ]
  },
  {
   "cell_type": "markdown",
   "id": "f3641a1a",
   "metadata": {},
   "source": [
    "#### Evaluating performance :"
   ]
  },
  {
   "cell_type": "code",
   "execution_count": 32,
   "id": "4f326193",
   "metadata": {},
   "outputs": [
    {
     "name": "stdout",
     "output_type": "stream",
     "text": [
      "Classification Report:\n",
      "              precision    recall  f1-score   support\n",
      "\n",
      "           0       0.71      0.94      0.81     28012\n",
      "           1       0.92      0.60      0.73     27988\n",
      "\n",
      "    accuracy                           0.77     56000\n",
      "   macro avg       0.81      0.77      0.77     56000\n",
      "weighted avg       0.81      0.77      0.77     56000\n",
      "\n"
     ]
    }
   ],
   "source": [
    "print(\"Classification Report:\")\n",
    "print(classification_report(y_test,LR_y_pred))"
   ]
  },
  {
   "cell_type": "code",
   "execution_count": 33,
   "id": "e967142d",
   "metadata": {},
   "outputs": [
    {
     "name": "stdout",
     "output_type": "stream",
     "text": [
      "Confusion Matrix:\n",
      "[[26463  1549]\n",
      " [11069 16919]]\n"
     ]
    }
   ],
   "source": [
    "print(\"Confusion Matrix:\")\n",
    "print(confusion_matrix(y_test,LR_y_pred))"
   ]
  },
  {
   "cell_type": "code",
   "execution_count": 34,
   "id": "a459d1d6",
   "metadata": {},
   "outputs": [
    {
     "name": "stdout",
     "output_type": "stream",
     "text": [
      "Accuracy: 0.7746785714285714\n"
     ]
    }
   ],
   "source": [
    "# Accuracy\n",
    "accuracy = accuracy_score(y_test,LR_y_pred)\n",
    "print(\"Accuracy:\", accuracy)"
   ]
  },
  {
   "cell_type": "code",
   "execution_count": 35,
   "id": "c4c7b761",
   "metadata": {},
   "outputs": [
    {
     "name": "stdout",
     "output_type": "stream",
     "text": [
      "0.9161251895170024\n"
     ]
    }
   ],
   "source": [
    "# Precision \n",
    "LR_precision = sklearn.metrics.precision_score(y_test,LR_y_pred)\n",
    "print(LR_precision)"
   ]
  },
  {
   "cell_type": "code",
   "execution_count": 36,
   "id": "70b43fcd",
   "metadata": {},
   "outputs": [
    {
     "name": "stdout",
     "output_type": "stream",
     "text": [
      "0.6045090753179935\n"
     ]
    }
   ],
   "source": [
    "# Recall\n",
    "LR_recall = sklearn.metrics.recall_score(y_test,LR_y_pred)\n",
    "print(LR_recall)"
   ]
  },
  {
   "cell_type": "code",
   "execution_count": 37,
   "id": "6ce0abd7",
   "metadata": {},
   "outputs": [
    {
     "data": {
      "image/png": "[encoded data removed]",
      "text/plain": [
       "<Figure size 800x600 with 2 Axes>"
      ]
     },
     "metadata": {},
     "output_type": "display_data"
    }
   ],
   "source": [
    "# Plot confusion matrix\n",
    "rf_cm = confusion_matrix(y_test,LR_y_pred)\n",
    "plt.figure(figsize=(8, 6))\n",
    "sns.heatmap(rf_cm, annot=True, cmap='Blues', fmt='g', \n",
    "            xticklabels=['Predicted Normal', 'Predicted Attack'], \n",
    "            yticklabels=['Actual Normal', 'Actual Attack'])\n",
    "plt.xlabel('Predicted labels')\n",
    "plt.ylabel('True labels')\n",
    "plt.title('Confusion Matrix for Logistic Regression classifier')\n",
    "plt.savefig('Confusion Matrix for Logistic Regression classifier')\n",
    "plt.show()"
   ]
  },
  {
   "cell_type": "markdown",
   "id": "94492333",
   "metadata": {},
   "source": [
    "---"
   ]
  },
  {
   "cell_type": "code",
   "execution_count": null,
   "id": "d8a33d64",
   "metadata": {},
   "outputs": [],
   "source": []
  },
  {
   "cell_type": "markdown",
   "id": "7015e5b9",
   "metadata": {},
   "source": [
    "## 5.3 Feedforward neural network (1 hidden layer)"
   ]
  },
  {
   "cell_type": "code",
   "execution_count": 23,
   "id": "03d26e08",
   "metadata": {
    "tags": []
   },
   "outputs": [],
   "source": [
    "# Create a Sequential model\n",
    "modelx = Sequential()\n",
    "\n",
    "# Add the input layer (Dense layer with ReLU activation)\n",
    "modelx.add(Dense(units=64, activation='relu', input_dim=X_train.shape[1]))\n",
    "\n",
    "# Add a hidden layer (Dense layer with ReLU activation)\n",
    "modelx.add(Dense(units=32, activation='relu'))\n",
    "\n",
    "# Add the output layer (Dense layer with sigmoid activation for binary classification)\n",
    "modelx.add(Dense(units=1, activation='sigmoid'))\n",
    "\n",
    "# Compile the model\n",
    "modelx.compile(optimizer='adam', loss='binary_crossentropy', metrics=['accuracy',keras.metrics.Precision(),keras.metrics.Recall(),keras.metrics.TruePositives(),keras.metrics.TrueNegatives(),keras.metrics.FalsePositives(),keras.metrics.FalseNegatives()])"
   ]
  },
  {
   "cell_type": "code",
   "execution_count": 31,
   "id": "9e8c3f42",
   "metadata": {
    "tags": []
   },
   "outputs": [
    {
     "name": "stdout",
     "output_type": "stream",
     "text": [
      "Epoch 1/50\n",
      " 108/2100 [>.............................] - ETA: 2s - loss: 0.3555 - accuracy: 0.8356 - precision: 0.9541 - recall: 0.6985 - true_positives: 1184.0000 - true_negatives: 1704.0000 - false_positives: 57.0000 - false_negatives: 511.0000"
     ]
    },
    {
     "name": "stderr",
     "output_type": "stream",
     "text": [
      "C:\\Users\\Asus\\AppData\\Local\\Programs\\Python\\Python311\\Lib\\site-packages\\keras\\src\\engine\\data_adapter.py:1798: FutureWarning: The behavior of `series[i:j]` with an integer-dtype index is deprecated. In a future version, this will be treated as *label-based* indexing, consistent with e.g. `series[i]` lookups. To retain the old behavior, use `series.iloc[i:j]`. To get the future behavior, use `series.loc[i:j]`.\n",
      "  return t[start:end]\n"
     ]
    },
    {
     "name": "stdout",
     "output_type": "stream",
     "text": [
      "2100/2100 [==============================] - 4s 2ms/step - loss: 0.3659 - accuracy: 0.8270 - precision: 0.9553 - recall: 0.6861 - true_positives: 23060.0000 - true_negatives: 32512.0000 - false_positives: 1080.0000 - false_negatives: 10548.0000 - val_loss: 0.3604 - val_accuracy: 0.8252 - val_precision: 0.9725 - val_recall: 0.6694 - val_true_positives: 5626.0000 - val_true_negatives: 8237.0000 - val_false_positives: 159.0000 - val_false_negatives: 2778.0000\n",
      "Epoch 2/50\n",
      "2100/2100 [==============================] - 4s 2ms/step - loss: 0.3624 - accuracy: 0.8267 - precision: 0.9563 - recall: 0.6848 - true_positives: 23016.0000 - true_negatives: 32540.0000 - false_positives: 1052.0000 - false_negatives: 10592.0000 - val_loss: 0.3543 - val_accuracy: 0.8304 - val_precision: 0.9541 - val_recall: 0.6943 - val_true_positives: 5835.0000 - val_true_negatives: 8115.0000 - val_false_positives: 281.0000 - val_false_negatives: 2569.0000\n",
      "Epoch 3/50\n",
      "2100/2100 [==============================] - 3s 2ms/step - loss: 0.3588 - accuracy: 0.8311 - precision: 0.9616 - recall: 0.6898 - true_positives: 23183.0000 - true_negatives: 32665.0000 - false_positives: 927.0000 - false_negatives: 10425.0000 - val_loss: 0.3566 - val_accuracy: 0.8369 - val_precision: 0.9454 - val_recall: 0.7153 - val_true_positives: 6011.0000 - val_true_negatives: 8049.0000 - val_false_positives: 347.0000 - val_false_negatives: 2393.0000\n",
      "Epoch 4/50\n",
      "2100/2100 [==============================] - 4s 2ms/step - loss: 0.3555 - accuracy: 0.8320 - precision: 0.9617 - recall: 0.6916 - true_positives: 23243.0000 - true_negatives: 32666.0000 - false_positives: 926.0000 - false_negatives: 10365.0000 - val_loss: 0.3560 - val_accuracy: 0.8338 - val_precision: 0.9779 - val_recall: 0.6832 - val_true_positives: 5742.0000 - val_true_negatives: 8266.0000 - val_false_positives: 130.0000 - val_false_negatives: 2662.0000\n",
      "Epoch 5/50\n",
      "2100/2100 [==============================] - 4s 2ms/step - loss: 0.3525 - accuracy: 0.8339 - precision: 0.9646 - recall: 0.6933 - true_positives: 23302.0000 - true_negatives: 32736.0000 - false_positives: 856.0000 - false_negatives: 10306.0000 - val_loss: 0.3458 - val_accuracy: 0.8370 - val_precision: 0.9550 - val_recall: 0.7075 - val_true_positives: 5946.0000 - val_true_negatives: 8116.0000 - val_false_positives: 280.0000 - val_false_negatives: 2458.0000\n",
      "Epoch 6/50\n",
      "2100/2100 [==============================] - 4s 2ms/step - loss: 0.3495 - accuracy: 0.8357 - precision: 0.9667 - recall: 0.6953 - true_positives: 23368.0000 - true_negatives: 32788.0000 - false_positives: 804.0000 - false_negatives: 10240.0000 - val_loss: 0.3426 - val_accuracy: 0.8404 - val_precision: 0.9776 - val_recall: 0.6968 - val_true_positives: 5856.0000 - val_true_negatives: 8262.0000 - val_false_positives: 134.0000 - val_false_negatives: 2548.0000\n",
      "Epoch 7/50\n",
      "2100/2100 [==============================] - 4s 2ms/step - loss: 0.3470 - accuracy: 0.8358 - precision: 0.9651 - recall: 0.6970 - true_positives: 23425.0000 - true_negatives: 32744.0000 - false_positives: 848.0000 - false_negatives: 10183.0000 - val_loss: 0.3445 - val_accuracy: 0.8402 - val_precision: 0.9667 - val_recall: 0.7048 - val_true_positives: 5923.0000 - val_true_negatives: 8192.0000 - val_false_positives: 204.0000 - val_false_negatives: 2481.0000\n",
      "Epoch 8/50\n",
      "2100/2100 [==============================] - 4s 2ms/step - loss: 0.3444 - accuracy: 0.8368 - precision: 0.9662 - recall: 0.6981 - true_positives: 23462.0000 - true_negatives: 32772.0000 - false_positives: 820.0000 - false_negatives: 10146.0000 - val_loss: 0.3390 - val_accuracy: 0.8410 - val_precision: 0.9758 - val_recall: 0.6995 - val_true_positives: 5879.0000 - val_true_negatives: 8250.0000 - val_false_positives: 146.0000 - val_false_negatives: 2525.0000\n",
      "Epoch 9/50\n",
      "2100/2100 [==============================] - 4s 2ms/step - loss: 0.3424 - accuracy: 0.8379 - precision: 0.9681 - recall: 0.6990 - true_positives: 23491.0000 - true_negatives: 32818.0000 - false_positives: 774.0000 - false_negatives: 10117.0000 - val_loss: 0.3453 - val_accuracy: 0.8375 - val_precision: 0.9651 - val_recall: 0.7005 - val_true_positives: 5887.0000 - val_true_negatives: 8183.0000 - val_false_positives: 213.0000 - val_false_negatives: 2517.0000\n",
      "Epoch 10/50\n",
      "2100/2100 [==============================] - 4s 2ms/step - loss: 0.3395 - accuracy: 0.8383 - precision: 0.9677 - recall: 0.7001 - true_positives: 23530.0000 - true_negatives: 32807.0000 - false_positives: 785.0000 - false_negatives: 10078.0000 - val_loss: 0.3391 - val_accuracy: 0.8395 - val_precision: 0.9629 - val_recall: 0.7063 - val_true_positives: 5936.0000 - val_true_negatives: 8167.0000 - val_false_positives: 229.0000 - val_false_negatives: 2468.0000\n",
      "Epoch 11/50\n",
      "2100/2100 [==============================] - 4s 2ms/step - loss: 0.3368 - accuracy: 0.8389 - precision: 0.9680 - recall: 0.7011 - true_positives: 23562.0000 - true_negatives: 32812.0000 - false_positives: 780.0000 - false_negatives: 10046.0000 - val_loss: 0.3321 - val_accuracy: 0.8426 - val_precision: 0.9721 - val_recall: 0.7056 - val_true_positives: 5930.0000 - val_true_negatives: 8226.0000 - val_false_positives: 170.0000 - val_false_negatives: 2474.0000\n",
      "Epoch 12/50\n",
      "2100/2100 [==============================] - 4s 2ms/step - loss: 0.3344 - accuracy: 0.8399 - precision: 0.9693 - recall: 0.7021 - true_positives: 23596.0000 - true_negatives: 32845.0000 - false_positives: 747.0000 - false_negatives: 10012.0000 - val_loss: 0.3312 - val_accuracy: 0.8436 - val_precision: 0.9844 - val_recall: 0.6984 - val_true_positives: 5869.0000 - val_true_negatives: 8303.0000 - val_false_positives: 93.0000 - val_false_negatives: 2535.0000\n",
      "Epoch 13/50\n",
      "2100/2100 [==============================] - 4s 2ms/step - loss: 0.3318 - accuracy: 0.8400 - precision: 0.9678 - recall: 0.7035 - true_positives: 23642.0000 - true_negatives: 32806.0000 - false_positives: 786.0000 - false_negatives: 9966.0000 - val_loss: 0.3284 - val_accuracy: 0.8449 - val_precision: 0.9680 - val_recall: 0.7136 - val_true_positives: 5997.0000 - val_true_negatives: 8198.0000 - val_false_positives: 198.0000 - val_false_negatives: 2407.0000\n",
      "Epoch 14/50\n",
      "2100/2100 [==============================] - 4s 2ms/step - loss: 0.3302 - accuracy: 0.8417 - precision: 0.9694 - recall: 0.7059 - true_positives: 23723.0000 - true_negatives: 32842.0000 - false_positives: 750.0000 - false_negatives: 9885.0000 - val_loss: 0.3366 - val_accuracy: 0.8390 - val_precision: 0.9717 - val_recall: 0.6985 - val_true_positives: 5870.0000 - val_true_negatives: 8225.0000 - val_false_positives: 171.0000 - val_false_negatives: 2534.0000\n",
      "Epoch 15/50\n",
      "2100/2100 [==============================] - 4s 2ms/step - loss: 0.3275 - accuracy: 0.8415 - precision: 0.9690 - recall: 0.7057 - true_positives: 23718.0000 - true_negatives: 32832.0000 - false_positives: 760.0000 - false_negatives: 9890.0000 - val_loss: 0.3360 - val_accuracy: 0.8431 - val_precision: 0.9845 - val_recall: 0.6973 - val_true_positives: 5860.0000 - val_true_negatives: 8304.0000 - val_false_positives: 92.0000 - val_false_negatives: 2544.0000\n",
      "Epoch 16/50\n",
      "2100/2100 [==============================] - 4s 2ms/step - loss: 0.3265 - accuracy: 0.8416 - precision: 0.9671 - recall: 0.7074 - true_positives: 23775.0000 - true_negatives: 32783.0000 - false_positives: 809.0000 - false_negatives: 9833.0000 - val_loss: 0.3238 - val_accuracy: 0.8466 - val_precision: 0.9621 - val_recall: 0.7218 - val_true_positives: 6066.0000 - val_true_negatives: 8157.0000 - val_false_positives: 239.0000 - val_false_negatives: 2338.0000\n",
      "Epoch 17/50\n",
      "2100/2100 [==============================] - 4s 2ms/step - loss: 0.3247 - accuracy: 0.8430 - precision: 0.9682 - recall: 0.7094 - true_positives: 23843.0000 - true_negatives: 32808.0000 - false_positives: 784.0000 - false_negatives: 9765.0000 - val_loss: 0.3215 - val_accuracy: 0.8465 - val_precision: 0.9592 - val_recall: 0.7239 - val_true_positives: 6084.0000 - val_true_negatives: 8137.0000 - val_false_positives: 259.0000 - val_false_negatives: 2320.0000\n",
      "Epoch 18/50\n",
      "2100/2100 [==============================] - 4s 2ms/step - loss: 0.3226 - accuracy: 0.8431 - precision: 0.9669 - recall: 0.7106 - true_positives: 23881.0000 - true_negatives: 32774.0000 - false_positives: 818.0000 - false_negatives: 9727.0000 - val_loss: 0.3198 - val_accuracy: 0.8477 - val_precision: 0.9770 - val_recall: 0.7124 - val_true_positives: 5987.0000 - val_true_negatives: 8255.0000 - val_false_positives: 141.0000 - val_false_negatives: 2417.0000\n",
      "Epoch 19/50\n",
      "2100/2100 [==============================] - 4s 2ms/step - loss: 0.3212 - accuracy: 0.8431 - precision: 0.9668 - recall: 0.7107 - true_positives: 23886.0000 - true_negatives: 32772.0000 - false_positives: 820.0000 - false_negatives: 9722.0000 - val_loss: 0.3179 - val_accuracy: 0.8442 - val_precision: 0.9678 - val_recall: 0.7123 - val_true_positives: 5986.0000 - val_true_negatives: 8197.0000 - val_false_positives: 199.0000 - val_false_negatives: 2418.0000\n",
      "Epoch 20/50\n",
      "2100/2100 [==============================] - 4s 2ms/step - loss: 0.3199 - accuracy: 0.8433 - precision: 0.9676 - recall: 0.7105 - true_positives: 23880.0000 - true_negatives: 32792.0000 - false_positives: 800.0000 - false_negatives: 9728.0000 - val_loss: 0.3238 - val_accuracy: 0.8466 - val_precision: 0.9579 - val_recall: 0.7252 - val_true_positives: 6095.0000 - val_true_negatives: 8128.0000 - val_false_positives: 268.0000 - val_false_negatives: 2309.0000\n",
      "Epoch 21/50\n",
      "2100/2100 [==============================] - 4s 2ms/step - loss: 0.3183 - accuracy: 0.8438 - precision: 0.9663 - recall: 0.7126 - true_positives: 23949.0000 - true_negatives: 32756.0000 - false_positives: 836.0000 - false_negatives: 9659.0000 - val_loss: 0.3137 - val_accuracy: 0.8469 - val_precision: 0.9643 - val_recall: 0.7206 - val_true_positives: 6056.0000 - val_true_negatives: 8172.0000 - val_false_positives: 224.0000 - val_false_negatives: 2348.0000\n",
      "Epoch 22/50\n",
      "2100/2100 [==============================] - 4s 2ms/step - loss: 0.3172 - accuracy: 0.8452 - precision: 0.9679 - recall: 0.7142 - true_positives: 24003.0000 - true_negatives: 32795.0000 - false_positives: 797.0000 - false_negatives: 9605.0000 - val_loss: 0.3142 - val_accuracy: 0.8486 - val_precision: 0.9777 - val_recall: 0.7136 - val_true_positives: 5997.0000 - val_true_negatives: 8259.0000 - val_false_positives: 137.0000 - val_false_negatives: 2407.0000\n",
      "Epoch 23/50\n",
      "2100/2100 [==============================] - 3s 2ms/step - loss: 0.3150 - accuracy: 0.8442 - precision: 0.9653 - recall: 0.7142 - true_positives: 24004.0000 - true_negatives: 32728.0000 - false_positives: 864.0000 - false_negatives: 9604.0000 - val_loss: 0.3147 - val_accuracy: 0.8464 - val_precision: 0.9812 - val_recall: 0.7066 - val_true_positives: 5938.0000 - val_true_negatives: 8282.0000 - val_false_positives: 114.0000 - val_false_negatives: 2466.0000\n",
      "Epoch 24/50\n",
      "2100/2100 [==============================] - 4s 2ms/step - loss: 0.3131 - accuracy: 0.8456 - precision: 0.9655 - recall: 0.7169 - true_positives: 24092.0000 - true_negatives: 32730.0000 - false_positives: 862.0000 - false_negatives: 9516.0000 - val_loss: 0.3094 - val_accuracy: 0.8445 - val_precision: 0.9365 - val_recall: 0.7393 - val_true_positives: 6213.0000 - val_true_negatives: 7975.0000 - val_false_positives: 421.0000 - val_false_negatives: 2191.0000\n",
      "Epoch 25/50\n",
      "2100/2100 [==============================] - 4s 2ms/step - loss: 0.3112 - accuracy: 0.8464 - precision: 0.9634 - recall: 0.7202 - true_positives: 24203.0000 - true_negatives: 32673.0000 - false_positives: 919.0000 - false_negatives: 9405.0000 - val_loss: 0.3147 - val_accuracy: 0.8458 - val_precision: 0.9741 - val_recall: 0.7107 - val_true_positives: 5973.0000 - val_true_negatives: 8237.0000 - val_false_positives: 159.0000 - val_false_negatives: 2431.0000\n",
      "Epoch 26/50\n",
      "2100/2100 [==============================] - 4s 2ms/step - loss: 0.3099 - accuracy: 0.8470 - precision: 0.9621 - recall: 0.7227 - true_positives: 24287.0000 - true_negatives: 32634.0000 - false_positives: 958.0000 - false_negatives: 9321.0000 - val_loss: 0.3073 - val_accuracy: 0.8474 - val_precision: 0.9439 - val_recall: 0.7389 - val_true_positives: 6210.0000 - val_true_negatives: 8027.0000 - val_false_positives: 369.0000 - val_false_negatives: 2194.0000\n",
      "Epoch 27/50\n",
      "2100/2100 [==============================] - 3s 2ms/step - loss: 0.3087 - accuracy: 0.8476 - precision: 0.9601 - recall: 0.7254 - true_positives: 24379.0000 - true_negatives: 32578.0000 - false_positives: 1014.0000 - false_negatives: 9229.0000 - val_loss: 0.3046 - val_accuracy: 0.8577 - val_precision: 0.9761 - val_recall: 0.7336 - val_true_positives: 6165.0000 - val_true_negatives: 8245.0000 - val_false_positives: 151.0000 - val_false_negatives: 2239.0000\n",
      "Epoch 28/50\n",
      "2100/2100 [==============================] - 4s 2ms/step - loss: 0.3066 - accuracy: 0.8491 - precision: 0.9578 - recall: 0.7305 - true_positives: 24552.0000 - true_negatives: 32509.0000 - false_positives: 1083.0000 - false_negatives: 9056.0000 - val_loss: 0.3091 - val_accuracy: 0.8465 - val_precision: 0.9286 - val_recall: 0.7508 - val_true_positives: 6310.0000 - val_true_negatives: 7911.0000 - val_false_positives: 485.0000 - val_false_negatives: 2094.0000\n",
      "Epoch 29/50\n",
      "2100/2100 [==============================] - 4s 2ms/step - loss: 0.3048 - accuracy: 0.8508 - precision: 0.9574 - recall: 0.7342 - true_positives: 24676.0000 - true_negatives: 32495.0000 - false_positives: 1097.0000 - false_negatives: 8932.0000 - val_loss: 0.3013 - val_accuracy: 0.8621 - val_precision: 0.9670 - val_recall: 0.7499 - val_true_positives: 6302.0000 - val_true_negatives: 8181.0000 - val_false_positives: 215.0000 - val_false_negatives: 2102.0000\n",
      "Epoch 30/50\n",
      "2100/2100 [==============================] - 4s 2ms/step - loss: 0.3015 - accuracy: 0.8541 - precision: 0.9570 - recall: 0.7416 - true_positives: 24924.0000 - true_negatives: 32471.0000 - false_positives: 1121.0000 - false_negatives: 8684.0000 - val_loss: 0.3015 - val_accuracy: 0.8492 - val_precision: 0.9430 - val_recall: 0.7436 - val_true_positives: 6249.0000 - val_true_negatives: 8018.0000 - val_false_positives: 378.0000 - val_false_negatives: 2155.0000\n",
      "Epoch 31/50\n",
      "2100/2100 [==============================] - 4s 2ms/step - loss: 0.3002 - accuracy: 0.8553 - precision: 0.9550 - recall: 0.7459 - true_positives: 25069.0000 - true_negatives: 32410.0000 - false_positives: 1182.0000 - false_negatives: 8539.0000 - val_loss: 0.2958 - val_accuracy: 0.8530 - val_precision: 0.9701 - val_recall: 0.7287 - val_true_positives: 6124.0000 - val_true_negatives: 8207.0000 - val_false_positives: 189.0000 - val_false_negatives: 2280.0000\n",
      "Epoch 32/50\n",
      "2100/2100 [==============================] - 4s 2ms/step - loss: 0.2977 - accuracy: 0.8577 - precision: 0.9540 - recall: 0.7517 - true_positives: 25263.0000 - true_negatives: 32374.0000 - false_positives: 1218.0000 - false_negatives: 8345.0000 - val_loss: 0.2932 - val_accuracy: 0.8534 - val_precision: 0.9514 - val_recall: 0.7450 - val_true_positives: 6261.0000 - val_true_negatives: 8076.0000 - val_false_positives: 320.0000 - val_false_negatives: 2143.0000\n",
      "Epoch 33/50\n",
      "2100/2100 [==============================] - 4s 2ms/step - loss: 0.2961 - accuracy: 0.8580 - precision: 0.9510 - recall: 0.7549 - true_positives: 25371.0000 - true_negatives: 32285.0000 - false_positives: 1307.0000 - false_negatives: 8237.0000 - val_loss: 0.2943 - val_accuracy: 0.8587 - val_precision: 0.9407 - val_recall: 0.7659 - val_true_positives: 6437.0000 - val_true_negatives: 7990.0000 - val_false_positives: 406.0000 - val_false_negatives: 1967.0000\n",
      "Epoch 34/50\n",
      "2100/2100 [==============================] - 4s 2ms/step - loss: 0.2938 - accuracy: 0.8602 - precision: 0.9523 - recall: 0.7585 - true_positives: 25491.0000 - true_negatives: 32315.0000 - false_positives: 1277.0000 - false_negatives: 8117.0000 - val_loss: 0.3410 - val_accuracy: 0.8480 - val_precision: 0.8632 - val_recall: 0.8272 - val_true_positives: 6952.0000 - val_true_negatives: 7294.0000 - val_false_positives: 1102.0000 - val_false_negatives: 1452.0000\n",
      "Epoch 35/50\n",
      "2100/2100 [==============================] - 4s 2ms/step - loss: 0.2932 - accuracy: 0.8607 - precision: 0.9499 - recall: 0.7616 - true_positives: 25596.0000 - true_negatives: 32243.0000 - false_positives: 1349.0000 - false_negatives: 8012.0000 - val_loss: 0.2935 - val_accuracy: 0.8608 - val_precision: 0.8987 - val_recall: 0.8135 - val_true_positives: 6837.0000 - val_true_negatives: 7625.0000 - val_false_positives: 771.0000 - val_false_negatives: 1567.0000\n",
      "Epoch 36/50\n",
      "2100/2100 [==============================] - 4s 2ms/step - loss: 0.2907 - accuracy: 0.8605 - precision: 0.9483 - recall: 0.7627 - true_positives: 25632.0000 - true_negatives: 32195.0000 - false_positives: 1397.0000 - false_negatives: 7976.0000 - val_loss: 0.2878 - val_accuracy: 0.8579 - val_precision: 0.9409 - val_recall: 0.7638 - val_true_positives: 6419.0000 - val_true_negatives: 7993.0000 - val_false_positives: 403.0000 - val_false_negatives: 1985.0000\n",
      "Epoch 37/50\n",
      "2100/2100 [==============================] - 4s 2ms/step - loss: 0.2896 - accuracy: 0.8634 - precision: 0.9495 - recall: 0.7676 - true_positives: 25799.0000 - true_negatives: 32221.0000 - false_positives: 1371.0000 - false_negatives: 7809.0000 - val_loss: 0.2855 - val_accuracy: 0.8685 - val_precision: 0.9346 - val_recall: 0.7926 - val_true_positives: 6661.0000 - val_true_negatives: 7930.0000 - val_false_positives: 466.0000 - val_false_negatives: 1743.0000\n",
      "Epoch 38/50\n",
      "2100/2100 [==============================] - 3s 2ms/step - loss: 0.2873 - accuracy: 0.8628 - precision: 0.9470 - recall: 0.7687 - true_positives: 25834.0000 - true_negatives: 32147.0000 - false_positives: 1445.0000 - false_negatives: 7774.0000 - val_loss: 0.2837 - val_accuracy: 0.8726 - val_precision: 0.9478 - val_recall: 0.7888 - val_true_positives: 6629.0000 - val_true_negatives: 8031.0000 - val_false_positives: 365.0000 - val_false_negatives: 1775.0000\n",
      "Epoch 39/50\n",
      "2100/2100 [==============================] - 4s 2ms/step - loss: 0.2861 - accuracy: 0.8640 - precision: 0.9452 - recall: 0.7729 - true_positives: 25977.0000 - true_negatives: 32086.0000 - false_positives: 1506.0000 - false_negatives: 7631.0000 - val_loss: 0.2835 - val_accuracy: 0.8709 - val_precision: 0.9709 - val_recall: 0.7649 - val_true_positives: 6428.0000 - val_true_negatives: 8203.0000 - val_false_positives: 193.0000 - val_false_negatives: 1976.0000\n",
      "Epoch 40/50\n",
      "2100/2100 [==============================] - 4s 2ms/step - loss: 0.2849 - accuracy: 0.8649 - precision: 0.9423 - recall: 0.7775 - true_positives: 26129.0000 - true_negatives: 31992.0000 - false_positives: 1600.0000 - false_negatives: 7479.0000 - val_loss: 0.2836 - val_accuracy: 0.8657 - val_precision: 0.9432 - val_recall: 0.7783 - val_true_positives: 6541.0000 - val_true_negatives: 8002.0000 - val_false_positives: 394.0000 - val_false_negatives: 1863.0000\n",
      "Epoch 41/50\n",
      "2100/2100 [==============================] - 4s 2ms/step - loss: 0.2817 - accuracy: 0.8658 - precision: 0.9435 - recall: 0.7782 - true_positives: 26153.0000 - true_negatives: 32027.0000 - false_positives: 1565.0000 - false_negatives: 7455.0000 - val_loss: 0.2798 - val_accuracy: 0.8705 - val_precision: 0.9816 - val_recall: 0.7552 - val_true_positives: 6347.0000 - val_true_negatives: 8277.0000 - val_false_positives: 119.0000 - val_false_negatives: 2057.0000\n",
      "Epoch 42/50\n",
      "2100/2100 [==============================] - 4s 2ms/step - loss: 0.2799 - accuracy: 0.8675 - precision: 0.9439 - recall: 0.7815 - true_positives: 26266.0000 - true_negatives: 32030.0000 - false_positives: 1562.0000 - false_negatives: 7342.0000 - val_loss: 0.2856 - val_accuracy: 0.8587 - val_precision: 0.9436 - val_recall: 0.7631 - val_true_positives: 6413.0000 - val_true_negatives: 8013.0000 - val_false_positives: 383.0000 - val_false_negatives: 1991.0000\n",
      "Epoch 43/50\n",
      "2100/2100 [==============================] - 4s 2ms/step - loss: 0.2776 - accuracy: 0.8679 - precision: 0.9422 - recall: 0.7839 - true_positives: 26344.0000 - true_negatives: 31976.0000 - false_positives: 1616.0000 - false_negatives: 7264.0000 - val_loss: 0.2816 - val_accuracy: 0.8721 - val_precision: 0.9688 - val_recall: 0.7692 - val_true_positives: 6464.0000 - val_true_negatives: 8188.0000 - val_false_positives: 208.0000 - val_false_negatives: 1940.0000\n",
      "Epoch 44/50\n",
      "2100/2100 [==============================] - 4s 2ms/step - loss: 0.2764 - accuracy: 0.8686 - precision: 0.9431 - recall: 0.7846 - true_positives: 26370.0000 - true_negatives: 32001.0000 - false_positives: 1591.0000 - false_negatives: 7238.0000 - val_loss: 0.2708 - val_accuracy: 0.8776 - val_precision: 0.9381 - val_recall: 0.8085 - val_true_positives: 6795.0000 - val_true_negatives: 7948.0000 - val_false_positives: 448.0000 - val_false_negatives: 1609.0000\n",
      "Epoch 45/50\n",
      "2100/2100 [==============================] - 4s 2ms/step - loss: 0.2730 - accuracy: 0.8698 - precision: 0.9434 - recall: 0.7869 - true_positives: 26446.0000 - true_negatives: 32005.0000 - false_positives: 1587.0000 - false_negatives: 7162.0000 - val_loss: 0.2754 - val_accuracy: 0.8684 - val_precision: 0.9429 - val_recall: 0.7844 - val_true_positives: 6592.0000 - val_true_negatives: 7997.0000 - val_false_positives: 399.0000 - val_false_negatives: 1812.0000\n",
      "Epoch 46/50\n",
      "2100/2100 [==============================] - 4s 2ms/step - loss: 0.2723 - accuracy: 0.8681 - precision: 0.9395 - recall: 0.7869 - true_positives: 26445.0000 - true_negatives: 31888.0000 - false_positives: 1704.0000 - false_negatives: 7163.0000 - val_loss: 0.2685 - val_accuracy: 0.8763 - val_precision: 0.9381 - val_recall: 0.8058 - val_true_positives: 6772.0000 - val_true_negatives: 7949.0000 - val_false_positives: 447.0000 - val_false_negatives: 1632.0000\n",
      "Epoch 47/50\n",
      "2100/2100 [==============================] - 4s 2ms/step - loss: 0.2700 - accuracy: 0.8694 - precision: 0.9396 - recall: 0.7896 - true_positives: 26537.0000 - true_negatives: 31886.0000 - false_positives: 1706.0000 - false_negatives: 7071.0000 - val_loss: 0.2674 - val_accuracy: 0.8720 - val_precision: 0.9752 - val_recall: 0.7636 - val_true_positives: 6417.0000 - val_true_negatives: 8233.0000 - val_false_positives: 163.0000 - val_false_negatives: 1987.0000\n",
      "Epoch 48/50\n",
      "2100/2100 [==============================] - 4s 2ms/step - loss: 0.2682 - accuracy: 0.8706 - precision: 0.9408 - recall: 0.7910 - true_positives: 26585.0000 - true_negatives: 31919.0000 - false_positives: 1673.0000 - false_negatives: 7023.0000 - val_loss: 0.2692 - val_accuracy: 0.8762 - val_precision: 0.9565 - val_recall: 0.7883 - val_true_positives: 6625.0000 - val_true_negatives: 8095.0000 - val_false_positives: 301.0000 - val_false_negatives: 1779.0000\n",
      "Epoch 49/50\n",
      "2100/2100 [==============================] - 4s 2ms/step - loss: 0.2659 - accuracy: 0.8719 - precision: 0.9402 - recall: 0.7944 - true_positives: 26699.0000 - true_negatives: 31895.0000 - false_positives: 1697.0000 - false_negatives: 6909.0000 - val_loss: 0.2654 - val_accuracy: 0.8683 - val_precision: 0.8983 - val_recall: 0.8307 - val_true_positives: 6981.0000 - val_true_negatives: 7606.0000 - val_false_positives: 790.0000 - val_false_negatives: 1423.0000\n",
      "Epoch 50/50\n",
      "2100/2100 [==============================] - 4s 2ms/step - loss: 0.2647 - accuracy: 0.8725 - precision: 0.9374 - recall: 0.7983 - true_positives: 26828.0000 - true_negatives: 31801.0000 - false_positives: 1791.0000 - false_negatives: 6780.0000 - val_loss: 0.2624 - val_accuracy: 0.8669 - val_precision: 0.9409 - val_recall: 0.7831 - val_true_positives: 6581.0000 - val_true_negatives: 7983.0000 - val_false_positives: 413.0000 - val_false_negatives: 1823.0000\n"
     ]
    }
   ],
   "source": [
    "history3=modelx.fit(X_train, y_train, epochs=50, batch_size=32, validation_split=0.2)"
   ]
  },
  {
   "cell_type": "code",
   "execution_count": 32,
   "id": "838c542f",
   "metadata": {
    "tags": []
   },
   "outputs": [
    {
     "data": {
      "image/png": "[encoded data removed]",
      "text/plain": [
       "<Figure size 640x480 with 1 Axes>"
      ]
     },
     "metadata": {},
     "output_type": "display_data"
    }
   ],
   "source": [
    "# Plot training and validation accuracy over epochs\n",
    "plt.plot(history3.history['accuracy'], label='Training Accuracy')\n",
    "plt.plot(history3.history['val_accuracy'], label='Validation Accuracy')\n",
    "plt.xlabel('Epoch')\n",
    "plt.ylabel('Accuracy')\n",
    "plt.title('Training and Validation Accuracy')\n",
    "plt.savefig('ANN Training and Validation Accuracy')\n",
    "plt.legend()\n",
    "plt.show()"
   ]
  },
  {
   "cell_type": "code",
   "execution_count": 33,
   "id": "555bbb52",
   "metadata": {
    "tags": []
   },
   "outputs": [
    {
     "name": "stdout",
     "output_type": "stream",
     "text": [
      "1750/1750 [==============================] - 2s 1ms/step - loss: 0.2657 - accuracy: 0.8629 - precision: 0.9327 - recall: 0.7821 - true_positives: 21890.0000 - true_negatives: 26432.0000 - false_positives: 1580.0000 - false_negatives: 6098.0000\n"
     ]
    }
   ],
   "source": [
    "scores = modelx.evaluate(X_test, y_test, verbose=1)"
   ]
  },
  {
   "cell_type": "code",
   "execution_count": 34,
   "id": "a516a674",
   "metadata": {
    "tags": []
   },
   "outputs": [
    {
     "name": "stdout",
     "output_type": "stream",
     "text": [
      "accuracy: 86.29%\n"
     ]
    }
   ],
   "source": [
    "scores = modelx.evaluate(X_test, y_test, verbose=0)\n",
    "print(\"%s: %.2f%%\" % (modelx.metrics_names[1], scores[1]*100))"
   ]
  },
  {
   "cell_type": "code",
   "execution_count": 35,
   "id": "78357e8c",
   "metadata": {},
   "outputs": [],
   "source": [
    "tp = int(scores[4])\n",
    "tn = int(scores[5])\n",
    "fp = int(scores[6])\n",
    "fn = int(scores[7])"
   ]
  },
  {
   "cell_type": "code",
   "execution_count": 38,
   "id": "8382d988",
   "metadata": {},
   "outputs": [
    {
     "name": "stdout",
     "output_type": "stream",
     "text": [
      "loss :  0.2657300531864166\n",
      "accuracy :  0.8628928661346436\n",
      "precision :  0.9326800107955933\n",
      "recall :  0.7821208834648132\n",
      "true_positives :  21890.0\n",
      "true_negatives :  26432.0\n",
      "false_positives :  1580.0\n",
      "false_negatives :  6098.0\n"
     ]
    }
   ],
   "source": [
    "for x in range(len(modelx.metrics_names)):\n",
    "    print(modelx.metrics_names[x],': ',scores[x])\n",
    "#print(scores)"
   ]
  },
  {
   "cell_type": "code",
   "execution_count": 29,
   "id": "ced5176f",
   "metadata": {},
   "outputs": [
    {
     "data": {
      "image/png": "[encoded data removed]",
      "text/plain": [
       "<Figure size 640x480 with 2 Axes>"
      ]
     },
     "metadata": {},
     "output_type": "display_data"
    }
   ],
   "source": [
    "to_heat_map =[[tn,fp],[fn,tp]]\n",
    "to_heat_map = pd.DataFrame(to_heat_map, index = [\" True Attack\",\"True Normal\"],columns = [\"Predicted Attack\",\"Predicted Normal\"])\n",
    "ax = sns.heatmap(to_heat_map,annot=True, fmt=\"d\")"
   ]
  },
  {
   "cell_type": "code",
   "execution_count": null,
   "id": "dc566083",
   "metadata": {},
   "outputs": [],
   "source": []
  },
  {
   "cell_type": "code",
   "execution_count": null,
   "id": "2510545f",
   "metadata": {},
   "outputs": [],
   "source": [
    "figure = ax.get_figure()    \n",
    "figure.savefig('confusion_matrix_ANN.png', dpi=400)"
   ]
  },
  {
   "cell_type": "markdown",
   "id": "d6c79937",
   "metadata": {},
   "source": [
    "---"
   ]
  },
  {
   "cell_type": "markdown",
   "id": "c9675f21",
   "metadata": {},
   "source": [
    "## 6. Training and testing on proposed model"
   ]
  },
  {
   "cell_type": "code",
   "execution_count": 79,
   "id": "bde4a907",
   "metadata": {
    "tags": []
   },
   "outputs": [],
   "source": [
    "number_of_samples = 50000"
   ]
  },
  {
   "cell_type": "code",
   "execution_count": 85,
   "id": "7afd2961",
   "metadata": {},
   "outputs": [],
   "source": [
    "data_attack1 = pd.read_csv('dataset_attack.csv', nrows = number_of_samples)"
   ]
  },
  {
   "cell_type": "code",
   "execution_count": 86,
   "id": "744daf80",
   "metadata": {},
   "outputs": [],
   "source": [
    "data_normal1 = pd.read_csv('dataset_normal.csv', nrows = number_of_samples)"
   ]
  },
  {
   "cell_type": "code",
   "execution_count": 87,
   "id": "4ab392a0",
   "metadata": {},
   "outputs": [],
   "source": [
    "data_normal1.columns=[ 'frame.len', 'frame.protocols', 'ip.hdr_len',\n",
    "       'ip.len', 'ip.flags.rb', 'ip.flags.df', 'p.flags.mf', 'ip.frag_offset',\n",
    "       'ip.ttl', 'ip.proto', 'ip.src', 'ip.dst', 'tcp.srcport', 'tcp.dstport',\n",
    "       'tcp.len', 'tcp.ack', 'tcp.flags.res', 'tcp.flags.ns', 'tcp.flags.cwr',\n",
    "       'tcp.flags.ecn', 'tcp.flags.urg', 'tcp.flags.ack', 'tcp.flags.push',\n",
    "       'tcp.flags.reset', 'tcp.flags.syn', 'tcp.flags.fin', 'tcp.window_size',\n",
    "       'tcp.time_delta','class']\n",
    "data_attack1.columns=[ 'frame.len', 'frame.protocols', 'ip.hdr_len',\n",
    "       'ip.len', 'ip.flags.rb', 'ip.flags.df', 'p.flags.mf', 'ip.frag_offset',\n",
    "       'ip.ttl', 'ip.proto', 'ip.src', 'ip.dst', 'tcp.srcport', 'tcp.dstport',\n",
    "       'tcp.len', 'tcp.ack', 'tcp.flags.res', 'tcp.flags.ns', 'tcp.flags.cwr',\n",
    "       'tcp.flags.ecn', 'tcp.flags.urg', 'tcp.flags.ack', 'tcp.flags.push',\n",
    "       'tcp.flags.reset', 'tcp.flags.syn', 'tcp.flags.fin', 'tcp.window_size',\n",
    "       'tcp.time_delta','class']"
   ]
  },
  {
   "cell_type": "code",
   "execution_count": 88,
   "id": "217289f0",
   "metadata": {
    "tags": []
   },
   "outputs": [],
   "source": [
    "data_normal1=data_normal1.drop(['ip.src', 'ip.dst','frame.protocols'],axis=1)\n",
    "data_attack1=data_attack1.drop(['ip.src', 'ip.dst','frame.protocols'],axis=1)"
   ]
  },
  {
   "cell_type": "code",
   "execution_count": 89,
   "id": "9c1e8427",
   "metadata": {
    "tags": []
   },
   "outputs": [],
   "source": [
    "features1=[ 'frame.len', 'ip.hdr_len',\n",
    "       'ip.len', 'ip.flags.rb', 'ip.flags.df', 'p.flags.mf', 'ip.frag_offset',\n",
    "       'ip.ttl', 'ip.proto', 'tcp.srcport', 'tcp.dstport',\n",
    "       'tcp.len', 'tcp.ack', 'tcp.flags.res', 'tcp.flags.ns', 'tcp.flags.cwr',\n",
    "       'tcp.flags.ecn', 'tcp.flags.urg', 'tcp.flags.ack', 'tcp.flags.push',\n",
    "       'tcp.flags.reset', 'tcp.flags.syn', 'tcp.flags.fin', 'tcp.window_size',\n",
    "       'tcp.time_delta']"
   ]
  },
  {
   "cell_type": "code",
   "execution_count": 90,
   "id": "c682a4ca",
   "metadata": {
    "tags": []
   },
   "outputs": [],
   "source": [
    "X_normal1= data_normal1[features1].values\n",
    "X_attack1= data_attack1[features1].values\n",
    "Y_normal1= data_normal1['class']\n",
    "Y_attack1= data_attack1['class']\n",
    "\n",
    "\n",
    "X=np.concatenate((X_normal1,X_attack1))\n",
    "Y=np.concatenate((Y_normal1,Y_attack1))\n"
   ]
  },
  {
   "cell_type": "code",
   "execution_count": 91,
   "id": "1158528e",
   "metadata": {
    "tags": []
   },
   "outputs": [],
   "source": [
    "scalar = StandardScaler(copy=True, with_mean=True, with_std=True)\n",
    "scalar.fit(X)\n",
    "X = scalar.transform(X)"
   ]
  },
  {
   "cell_type": "code",
   "execution_count": 92,
   "id": "eb863562",
   "metadata": {
    "tags": []
   },
   "outputs": [],
   "source": [
    "for i in range(0,len(Y)):\n",
    "  if Y[i] ==\"attack\":\n",
    "    Y[i]=0\n",
    "  else:\n",
    "    Y[i]=1\n",
    "    "
   ]
  },
  {
   "cell_type": "code",
   "execution_count": 93,
   "id": "e8957348",
   "metadata": {},
   "outputs": [],
   "source": [
    "features = len(X[0])\n",
    "samples = X.shape[0]\n",
    "train_len = 25\n",
    "input_len = samples - train_len\n",
    "I = np.zeros((samples - train_len, train_len, features))\n",
    "\n",
    "for i in range(input_len):\n",
    "    temp = np.zeros((train_len, features))\n",
    "    for j in range(i, i + train_len - 1):\n",
    "        temp[j-i] = X[j]\n",
    "    I[i] = temp"
   ]
  },
  {
   "cell_type": "code",
   "execution_count": 94,
   "id": "4663bc3e",
   "metadata": {},
   "outputs": [
    {
     "data": {
      "text/plain": [
       "(100000, 25)"
      ]
     },
     "execution_count": 94,
     "metadata": {},
     "output_type": "execute_result"
    }
   ],
   "source": [
    "X.shape"
   ]
  },
  {
   "cell_type": "code",
   "execution_count": 95,
   "id": "62b2aad8",
   "metadata": {},
   "outputs": [],
   "source": [
    "X_train, X_test, Y_train, Y_test = train_test_split(I, Y[25:100000], test_size = 0.2)"
   ]
  },
  {
   "cell_type": "code",
   "execution_count": 96,
   "id": "04d2739b",
   "metadata": {},
   "outputs": [],
   "source": [
    "X_train = np.asarray(X_train).astype(np.float32)\n",
    "Y_train = np.asarray(Y_train).astype(np.float32)"
   ]
  },
  {
   "cell_type": "code",
   "execution_count": 97,
   "id": "b2237e68",
   "metadata": {},
   "outputs": [],
   "source": [
    "def create_LSTM():\n",
    "    model = Sequential()\n",
    "    \n",
    "    model.add(Bidirectional(LSTM(64, activation='tanh', kernel_regularizer='l2')))\n",
    "    model.add(Dense(128, activation = 'relu', kernel_regularizer='l2'))\n",
    "    model.add(Dense(1, activation = 'sigmoid', kernel_regularizer='l2'))\n",
    "    \n",
    "    model.compile(loss = 'binary_crossentropy', optimizer = 'adam', metrics = ['accuracy',keras.metrics.Precision(),keras.metrics.Recall(),keras.metrics.F1Score(),keras.metrics.TruePositives(),keras.metrics.TrueNegatives(),keras.metrics.FalsePositives(),keras.metrics.FalseNegatives()])\n",
    "    \n",
    "    return model"
   ]
  },
  {
   "cell_type": "code",
   "execution_count": 98,
   "id": "db6110e5",
   "metadata": {},
   "outputs": [],
   "source": [
    "model = create_LSTM()"
   ]
  },
  {
   "cell_type": "code",
   "execution_count": 99,
   "id": "df9812b9",
   "metadata": {},
   "outputs": [
    {
     "name": "stdout",
     "output_type": "stream",
     "text": [
      "Epoch 1/50\n",
      "2000/2000 [==============================] - 26s 11ms/step - loss: 0.2961 - accuracy: 0.9351 - precision_1: 0.9088 - recall_1: 0.9674 - f1_score: 0.6672 - true_positives_1: 30988.0000 - true_negatives_1: 28845.0000 - false_positives_1: 3108.0000 - false_negatives_1: 1043.0000 - val_loss: 0.1841 - val_accuracy: 0.9526 - val_precision_1: 0.9467 - val_recall_1: 0.9592 - val_f1_score: 0.6664 - val_true_positives_1: 7667.0000 - val_true_negatives_1: 7571.0000 - val_false_positives_1: 432.0000 - val_false_negatives_1: 326.0000\n",
      "Epoch 2/50\n",
      "2000/2000 [==============================] - 22s 11ms/step - loss: 0.1731 - accuracy: 0.9576 - precision_1: 0.9344 - recall_1: 0.9845 - f1_score: 0.6672 - true_positives_1: 31535.0000 - true_negatives_1: 29738.0000 - false_positives_1: 2215.0000 - false_negatives_1: 496.0000 - val_loss: 0.1468 - val_accuracy: 0.9627 - val_precision_1: 0.9387 - val_recall_1: 0.9900 - val_f1_score: 0.6664 - val_true_positives_1: 7913.0000 - val_true_negatives_1: 7486.0000 - val_false_positives_1: 517.0000 - val_false_negatives_1: 80.0000\n",
      "Epoch 3/50\n",
      "2000/2000 [==============================] - 23s 11ms/step - loss: 0.1553 - accuracy: 0.9614 - precision_1: 0.9399 - recall_1: 0.9860 - f1_score: 0.6672 - true_positives_1: 31583.0000 - true_negatives_1: 29934.0000 - false_positives_1: 2019.0000 - false_negatives_1: 448.0000 - val_loss: 0.1504 - val_accuracy: 0.9647 - val_precision_1: 0.9408 - val_recall_1: 0.9919 - val_f1_score: 0.6664 - val_true_positives_1: 7928.0000 - val_true_negatives_1: 7504.0000 - val_false_positives_1: 499.0000 - val_false_negatives_1: 65.0000\n",
      "Epoch 4/50\n",
      "2000/2000 [==============================] - 23s 11ms/step - loss: 0.1499 - accuracy: 0.9632 - precision_1: 0.9405 - recall_1: 0.9889 - f1_score: 0.6672 - true_positives_1: 31677.0000 - true_negatives_1: 29950.0000 - false_positives_1: 2003.0000 - false_negatives_1: 354.0000 - val_loss: 0.1410 - val_accuracy: 0.9661 - val_precision_1: 0.9398 - val_recall_1: 0.9960 - val_f1_score: 0.6664 - val_true_positives_1: 7961.0000 - val_true_negatives_1: 7493.0000 - val_false_positives_1: 510.0000 - val_false_negatives_1: 32.0000\n",
      "Epoch 5/50\n",
      "2000/2000 [==============================] - 29s 14ms/step - loss: 0.1411 - accuracy: 0.9652 - precision_1: 0.9427 - recall_1: 0.9906 - f1_score: 0.6672 - true_positives_1: 31730.0000 - true_negatives_1: 30026.0000 - false_positives_1: 1927.0000 - false_negatives_1: 301.0000 - val_loss: 0.1490 - val_accuracy: 0.9651 - val_precision_1: 0.9401 - val_recall_1: 0.9934 - val_f1_score: 0.6664 - val_true_positives_1: 7940.0000 - val_true_negatives_1: 7497.0000 - val_false_positives_1: 506.0000 - val_false_negatives_1: 53.0000\n",
      "Epoch 6/50\n",
      "2000/2000 [==============================] - 22s 11ms/step - loss: 0.1365 - accuracy: 0.9660 - precision_1: 0.9443 - recall_1: 0.9905 - f1_score: 0.6672 - true_positives_1: 31726.0000 - true_negatives_1: 30082.0000 - false_positives_1: 1871.0000 - false_negatives_1: 305.0000 - val_loss: 0.1614 - val_accuracy: 0.9570 - val_precision_1: 0.9418 - val_recall_1: 0.9741 - val_f1_score: 0.6664 - val_true_positives_1: 7786.0000 - val_true_negatives_1: 7522.0000 - val_false_positives_1: 481.0000 - val_false_negatives_1: 207.0000\n",
      "Epoch 7/50\n",
      "2000/2000 [==============================] - 22s 11ms/step - loss: 0.1378 - accuracy: 0.9647 - precision_1: 0.9433 - recall_1: 0.9891 - f1_score: 0.6672 - true_positives_1: 31681.0000 - true_negatives_1: 30047.0000 - false_positives_1: 1906.0000 - false_negatives_1: 350.0000 - val_loss: 0.1332 - val_accuracy: 0.9667 - val_precision_1: 0.9412 - val_recall_1: 0.9955 - val_f1_score: 0.6664 - val_true_positives_1: 7957.0000 - val_true_negatives_1: 7506.0000 - val_false_positives_1: 497.0000 - val_false_negatives_1: 36.0000\n",
      "Epoch 8/50\n",
      "2000/2000 [==============================] - 22s 11ms/step - loss: 0.1460 - accuracy: 0.9621 - precision_1: 0.9394 - recall_1: 0.9880 - f1_score: 0.6672 - true_positives_1: 31648.0000 - true_negatives_1: 29910.0000 - false_positives_1: 2043.0000 - false_negatives_1: 383.0000 - val_loss: 0.1886 - val_accuracy: 0.9477 - val_precision_1: 0.9081 - val_recall_1: 0.9962 - val_f1_score: 0.6664 - val_true_positives_1: 7963.0000 - val_true_negatives_1: 7197.0000 - val_false_positives_1: 806.0000 - val_false_negatives_1: 30.0000\n",
      "Epoch 9/50\n",
      "2000/2000 [==============================] - 22s 11ms/step - loss: 0.1578 - accuracy: 0.9571 - precision_1: 0.9307 - recall_1: 0.9879 - f1_score: 0.6672 - true_positives_1: 31642.0000 - true_negatives_1: 29598.0000 - false_positives_1: 2355.0000 - false_negatives_1: 389.0000 - val_loss: 0.1387 - val_accuracy: 0.9601 - val_precision_1: 0.9416 - val_recall_1: 0.9810 - val_f1_score: 0.6664 - val_true_positives_1: 7841.0000 - val_true_negatives_1: 7517.0000 - val_false_positives_1: 486.0000 - val_false_negatives_1: 152.0000\n",
      "Epoch 10/50\n",
      "2000/2000 [==============================] - 21s 11ms/step - loss: 0.1415 - accuracy: 0.9627 - precision_1: 0.9429 - recall_1: 0.9852 - f1_score: 0.6672 - true_positives_1: 31556.0000 - true_negatives_1: 30042.0000 - false_positives_1: 1911.0000 - false_negatives_1: 475.0000 - val_loss: 0.1410 - val_accuracy: 0.9660 - val_precision_1: 0.9391 - val_recall_1: 0.9966 - val_f1_score: 0.6664 - val_true_positives_1: 7966.0000 - val_true_negatives_1: 7486.0000 - val_false_positives_1: 517.0000 - val_false_negatives_1: 27.0000\n",
      "Epoch 11/50\n",
      "2000/2000 [==============================] - 22s 11ms/step - loss: 0.1305 - accuracy: 0.9673 - precision_1: 0.9449 - recall_1: 0.9925 - f1_score: 0.6672 - true_positives_1: 31791.0000 - true_negatives_1: 30100.0000 - false_positives_1: 1853.0000 - false_negatives_1: 240.0000 - val_loss: 0.1276 - val_accuracy: 0.9676 - val_precision_1: 0.9451 - val_recall_1: 0.9929 - val_f1_score: 0.6664 - val_true_positives_1: 7936.0000 - val_true_negatives_1: 7542.0000 - val_false_positives_1: 461.0000 - val_false_negatives_1: 57.0000\n",
      "Epoch 12/50\n",
      "2000/2000 [==============================] - 24s 12ms/step - loss: 0.1286 - accuracy: 0.9678 - precision_1: 0.9462 - recall_1: 0.9921 - f1_score: 0.6672 - true_positives_1: 31778.0000 - true_negatives_1: 30145.0000 - false_positives_1: 1808.0000 - false_negatives_1: 253.0000 - val_loss: 0.1251 - val_accuracy: 0.9672 - val_precision_1: 0.9493 - val_recall_1: 0.9871 - val_f1_score: 0.6664 - val_true_positives_1: 7890.0000 - val_true_negatives_1: 7582.0000 - val_false_positives_1: 421.0000 - val_false_negatives_1: 103.0000\n",
      "Epoch 13/50\n",
      "2000/2000 [==============================] - 22s 11ms/step - loss: 0.1371 - accuracy: 0.9651 - precision_1: 0.9457 - recall_1: 0.9870 - f1_score: 0.6672 - true_positives_1: 31613.0000 - true_negatives_1: 30138.0000 - false_positives_1: 1815.0000 - false_negatives_1: 418.0000 - val_loss: 0.1315 - val_accuracy: 0.9682 - val_precision_1: 0.9439 - val_recall_1: 0.9955 - val_f1_score: 0.6664 - val_true_positives_1: 7957.0000 - val_true_negatives_1: 7530.0000 - val_false_positives_1: 473.0000 - val_false_negatives_1: 36.0000\n",
      "Epoch 14/50\n",
      "2000/2000 [==============================] - 22s 11ms/step - loss: 0.1295 - accuracy: 0.9670 - precision_1: 0.9472 - recall_1: 0.9893 - f1_score: 0.6672 - true_positives_1: 31689.0000 - true_negatives_1: 30186.0000 - false_positives_1: 1767.0000 - false_negatives_1: 342.0000 - val_loss: 0.1165 - val_accuracy: 0.9695 - val_precision_1: 0.9456 - val_recall_1: 0.9962 - val_f1_score: 0.6664 - val_true_positives_1: 7963.0000 - val_true_negatives_1: 7545.0000 - val_false_positives_1: 458.0000 - val_false_negatives_1: 30.0000\n",
      "Epoch 15/50\n",
      "2000/2000 [==============================] - 22s 11ms/step - loss: 0.1346 - accuracy: 0.9667 - precision_1: 0.9457 - recall_1: 0.9903 - f1_score: 0.6672 - true_positives_1: 31721.0000 - true_negatives_1: 30132.0000 - false_positives_1: 1821.0000 - false_negatives_1: 310.0000 - val_loss: 0.1536 - val_accuracy: 0.9546 - val_precision_1: 0.9206 - val_recall_1: 0.9949 - val_f1_score: 0.6664 - val_true_positives_1: 7952.0000 - val_true_negatives_1: 7317.0000 - val_false_positives_1: 686.0000 - val_false_negatives_1: 41.0000\n",
      "Epoch 16/50\n",
      "2000/2000 [==============================] - 23s 11ms/step - loss: 0.1275 - accuracy: 0.9673 - precision_1: 0.9475 - recall_1: 0.9894 - f1_score: 0.6672 - true_positives_1: 31693.0000 - true_negatives_1: 30198.0000 - false_positives_1: 1755.0000 - false_negatives_1: 338.0000 - val_loss: 0.1252 - val_accuracy: 0.9699 - val_precision_1: 0.9471 - val_recall_1: 0.9954 - val_f1_score: 0.6664 - val_true_positives_1: 7956.0000 - val_true_negatives_1: 7559.0000 - val_false_positives_1: 444.0000 - val_false_negatives_1: 37.0000\n",
      "Epoch 17/50\n",
      "2000/2000 [==============================] - 22s 11ms/step - loss: 0.1226 - accuracy: 0.9696 - precision_1: 0.9498 - recall_1: 0.9917 - f1_score: 0.6672 - true_positives_1: 31765.0000 - true_negatives_1: 30274.0000 - false_positives_1: 1679.0000 - false_negatives_1: 266.0000 - val_loss: 0.1454 - val_accuracy: 0.9587 - val_precision_1: 0.9282 - val_recall_1: 0.9944 - val_f1_score: 0.6664 - val_true_positives_1: 7948.0000 - val_true_negatives_1: 7388.0000 - val_false_positives_1: 615.0000 - val_false_negatives_1: 45.0000\n",
      "Epoch 18/50\n",
      "2000/2000 [==============================] - 22s 11ms/step - loss: 0.1256 - accuracy: 0.9685 - precision_1: 0.9485 - recall_1: 0.9910 - f1_score: 0.6672 - true_positives_1: 31742.0000 - true_negatives_1: 30228.0000 - false_positives_1: 1725.0000 - false_negatives_1: 289.0000 - val_loss: 0.1208 - val_accuracy: 0.9708 - val_precision_1: 0.9490 - val_recall_1: 0.9950 - val_f1_score: 0.6664 - val_true_positives_1: 7953.0000 - val_true_negatives_1: 7576.0000 - val_false_positives_1: 427.0000 - val_false_negatives_1: 40.0000\n",
      "Epoch 19/50\n",
      "2000/2000 [==============================] - 22s 11ms/step - loss: 0.1217 - accuracy: 0.9699 - precision_1: 0.9497 - recall_1: 0.9924 - f1_score: 0.6672 - true_positives_1: 31789.0000 - true_negatives_1: 30268.0000 - false_positives_1: 1685.0000 - false_negatives_1: 242.0000 - val_loss: 0.1408 - val_accuracy: 0.9571 - val_precision_1: 0.9229 - val_recall_1: 0.9975 - val_f1_score: 0.6664 - val_true_positives_1: 7973.0000 - val_true_negatives_1: 7337.0000 - val_false_positives_1: 666.0000 - val_false_negatives_1: 20.0000\n",
      "Epoch 20/50\n",
      "2000/2000 [==============================] - 22s 11ms/step - loss: 0.1276 - accuracy: 0.9681 - precision_1: 0.9475 - recall_1: 0.9912 - f1_score: 0.6672 - true_positives_1: 31750.0000 - true_negatives_1: 30194.0000 - false_positives_1: 1759.0000 - false_negatives_1: 281.0000 - val_loss: 0.1473 - val_accuracy: 0.9586 - val_precision_1: 0.9418 - val_recall_1: 0.9776 - val_f1_score: 0.6664 - val_true_positives_1: 7814.0000 - val_true_negatives_1: 7520.0000 - val_false_positives_1: 483.0000 - val_false_negatives_1: 179.0000\n",
      "Epoch 21/50\n",
      "2000/2000 [==============================] - 22s 11ms/step - loss: 0.1383 - accuracy: 0.9637 - precision_1: 0.9436 - recall_1: 0.9865 - f1_score: 0.6672 - true_positives_1: 31597.0000 - true_negatives_1: 30064.0000 - false_positives_1: 1889.0000 - false_negatives_1: 434.0000 - val_loss: 0.1339 - val_accuracy: 0.9574 - val_precision_1: 0.9418 - val_recall_1: 0.9751 - val_f1_score: 0.6664 - val_true_positives_1: 7794.0000 - val_true_negatives_1: 7521.0000 - val_false_positives_1: 482.0000 - val_false_negatives_1: 199.0000\n",
      "Epoch 22/50\n",
      "2000/2000 [==============================] - 23s 11ms/step - loss: 0.1262 - accuracy: 0.9687 - precision_1: 0.9497 - recall_1: 0.9899 - f1_score: 0.6672 - true_positives_1: 31707.0000 - true_negatives_1: 30274.0000 - false_positives_1: 1679.0000 - false_negatives_1: 324.0000 - val_loss: 0.1169 - val_accuracy: 0.9703 - val_precision_1: 0.9474 - val_recall_1: 0.9959 - val_f1_score: 0.6664 - val_true_positives_1: 7960.0000 - val_true_negatives_1: 7561.0000 - val_false_positives_1: 442.0000 - val_false_negatives_1: 33.0000\n",
      "Epoch 23/50\n",
      "2000/2000 [==============================] - 24s 12ms/step - loss: 0.1126 - accuracy: 0.9727 - precision_1: 0.9529 - recall_1: 0.9946 - f1_score: 0.6672 - true_positives_1: 31859.0000 - true_negatives_1: 30380.0000 - false_positives_1: 1573.0000 - false_negatives_1: 172.0000 - val_loss: 0.1548 - val_accuracy: 0.9576 - val_precision_1: 0.9477 - val_recall_1: 0.9686 - val_f1_score: 0.6664 - val_true_positives_1: 7742.0000 - val_true_negatives_1: 7576.0000 - val_false_positives_1: 427.0000 - val_false_negatives_1: 251.0000\n",
      "Epoch 24/50\n",
      "2000/2000 [==============================] - 23s 12ms/step - loss: 0.1155 - accuracy: 0.9706 - precision_1: 0.9520 - recall_1: 0.9912 - f1_score: 0.6672 - true_positives_1: 31749.0000 - true_negatives_1: 30352.0000 - false_positives_1: 1601.0000 - false_negatives_1: 282.0000 - val_loss: 0.1413 - val_accuracy: 0.9575 - val_precision_1: 0.9436 - val_recall_1: 0.9731 - val_f1_score: 0.6664 - val_true_positives_1: 7778.0000 - val_true_negatives_1: 7538.0000 - val_false_positives_1: 465.0000 - val_false_negatives_1: 215.0000\n",
      "Epoch 25/50\n",
      "2000/2000 [==============================] - 22s 11ms/step - loss: 0.1221 - accuracy: 0.9672 - precision_1: 0.9484 - recall_1: 0.9882 - f1_score: 0.6672 - true_positives_1: 31653.0000 - true_negatives_1: 30231.0000 - false_positives_1: 1722.0000 - false_negatives_1: 378.0000 - val_loss: 0.1147 - val_accuracy: 0.9685 - val_precision_1: 0.9419 - val_recall_1: 0.9985 - val_f1_score: 0.6664 - val_true_positives_1: 7981.0000 - val_true_negatives_1: 7511.0000 - val_false_positives_1: 492.0000 - val_false_negatives_1: 12.0000\n",
      "Epoch 26/50\n",
      "2000/2000 [==============================] - 23s 11ms/step - loss: 0.1288 - accuracy: 0.9669 - precision_1: 0.9481 - recall_1: 0.9880 - f1_score: 0.6672 - true_positives_1: 31647.0000 - true_negatives_1: 30222.0000 - false_positives_1: 1731.0000 - false_negatives_1: 384.0000 - val_loss: 0.1185 - val_accuracy: 0.9703 - val_precision_1: 0.9469 - val_recall_1: 0.9965 - val_f1_score: 0.6664 - val_true_positives_1: 7965.0000 - val_true_negatives_1: 7556.0000 - val_false_positives_1: 447.0000 - val_false_negatives_1: 28.0000\n",
      "Epoch 27/50\n",
      "2000/2000 [==============================] - 23s 11ms/step - loss: 0.1082 - accuracy: 0.9734 - precision_1: 0.9544 - recall_1: 0.9944 - f1_score: 0.6672 - true_positives_1: 31851.0000 - true_negatives_1: 30432.0000 - false_positives_1: 1521.0000 - false_negatives_1: 180.0000 - val_loss: 0.1141 - val_accuracy: 0.9702 - val_precision_1: 0.9501 - val_recall_1: 0.9925 - val_f1_score: 0.6664 - val_true_positives_1: 7933.0000 - val_true_negatives_1: 7586.0000 - val_false_positives_1: 417.0000 - val_false_negatives_1: 60.0000\n",
      "Epoch 28/50\n",
      "2000/2000 [==============================] - 23s 11ms/step - loss: 0.1100 - accuracy: 0.9725 - precision_1: 0.9529 - recall_1: 0.9943 - f1_score: 0.6672 - true_positives_1: 31849.0000 - true_negatives_1: 30378.0000 - false_positives_1: 1575.0000 - false_negatives_1: 182.0000 - val_loss: 0.1329 - val_accuracy: 0.9624 - val_precision_1: 0.9385 - val_recall_1: 0.9895 - val_f1_score: 0.6664 - val_true_positives_1: 7909.0000 - val_true_negatives_1: 7485.0000 - val_false_positives_1: 518.0000 - val_false_negatives_1: 84.0000\n",
      "Epoch 29/50\n",
      "2000/2000 [==============================] - 22s 11ms/step - loss: 0.1079 - accuracy: 0.9734 - precision_1: 0.9537 - recall_1: 0.9953 - f1_score: 0.6672 - true_positives_1: 31879.0000 - true_negatives_1: 30404.0000 - false_positives_1: 1549.0000 - false_negatives_1: 152.0000 - val_loss: 0.1100 - val_accuracy: 0.9737 - val_precision_1: 0.9516 - val_recall_1: 0.9981 - val_f1_score: 0.6664 - val_true_positives_1: 7978.0000 - val_true_negatives_1: 7597.0000 - val_false_positives_1: 406.0000 - val_false_negatives_1: 15.0000\n",
      "Epoch 30/50\n",
      "2000/2000 [==============================] - 23s 11ms/step - loss: 0.1113 - accuracy: 0.9724 - precision_1: 0.9535 - recall_1: 0.9933 - f1_score: 0.6672 - true_positives_1: 31817.0000 - true_negatives_1: 30402.0000 - false_positives_1: 1551.0000 - false_negatives_1: 214.0000 - val_loss: 0.1318 - val_accuracy: 0.9612 - val_precision_1: 0.9326 - val_recall_1: 0.9942 - val_f1_score: 0.6664 - val_true_positives_1: 7947.0000 - val_true_negatives_1: 7429.0000 - val_false_positives_1: 574.0000 - val_false_negatives_1: 46.0000\n",
      "Epoch 31/50\n",
      "2000/2000 [==============================] - 23s 11ms/step - loss: 0.1183 - accuracy: 0.9700 - precision_1: 0.9516 - recall_1: 0.9905 - f1_score: 0.6672 - true_positives_1: 31726.0000 - true_negatives_1: 30341.0000 - false_positives_1: 1612.0000 - false_negatives_1: 305.0000 - val_loss: 0.1371 - val_accuracy: 0.9654 - val_precision_1: 0.9379 - val_recall_1: 0.9966 - val_f1_score: 0.6664 - val_true_positives_1: 7966.0000 - val_true_negatives_1: 7476.0000 - val_false_positives_1: 527.0000 - val_false_negatives_1: 27.0000\n",
      "Epoch 32/50\n",
      "2000/2000 [==============================] - 22s 11ms/step - loss: 0.1091 - accuracy: 0.9736 - precision_1: 0.9558 - recall_1: 0.9931 - f1_score: 0.6672 - true_positives_1: 31811.0000 - true_negatives_1: 30481.0000 - false_positives_1: 1472.0000 - false_negatives_1: 220.0000 - val_loss: 0.1290 - val_accuracy: 0.9707 - val_precision_1: 0.9451 - val_recall_1: 0.9994 - val_f1_score: 0.6664 - val_true_positives_1: 7988.0000 - val_true_negatives_1: 7539.0000 - val_false_positives_1: 464.0000 - val_false_negatives_1: 5.0000\n",
      "Epoch 33/50\n",
      "2000/2000 [==============================] - 23s 11ms/step - loss: 0.1142 - accuracy: 0.9689 - precision_1: 0.9528 - recall_1: 0.9867 - f1_score: 0.6672 - true_positives_1: 31605.0000 - true_negatives_1: 30386.0000 - false_positives_1: 1567.0000 - false_negatives_1: 426.0000 - val_loss: 0.1202 - val_accuracy: 0.9707 - val_precision_1: 0.9541 - val_recall_1: 0.9890 - val_f1_score: 0.6664 - val_true_positives_1: 7905.0000 - val_true_negatives_1: 7623.0000 - val_false_positives_1: 380.0000 - val_false_negatives_1: 88.0000\n",
      "Epoch 34/50\n",
      "2000/2000 [==============================] - 22s 11ms/step - loss: 0.1125 - accuracy: 0.9718 - precision_1: 0.9542 - recall_1: 0.9913 - f1_score: 0.6672 - true_positives_1: 31751.0000 - true_negatives_1: 30429.0000 - false_positives_1: 1524.0000 - false_negatives_1: 280.0000 - val_loss: 0.1145 - val_accuracy: 0.9714 - val_precision_1: 0.9476 - val_recall_1: 0.9980 - val_f1_score: 0.6664 - val_true_positives_1: 7977.0000 - val_true_negatives_1: 7562.0000 - val_false_positives_1: 441.0000 - val_false_negatives_1: 16.0000\n",
      "Epoch 35/50\n",
      "2000/2000 [==============================] - 22s 11ms/step - loss: 0.1022 - accuracy: 0.9755 - precision_1: 0.9583 - recall_1: 0.9943 - f1_score: 0.6672 - true_positives_1: 31848.0000 - true_negatives_1: 30568.0000 - false_positives_1: 1385.0000 - false_negatives_1: 183.0000 - val_loss: 0.0997 - val_accuracy: 0.9738 - val_precision_1: 0.9528 - val_recall_1: 0.9970 - val_f1_score: 0.6664 - val_true_positives_1: 7969.0000 - val_true_negatives_1: 7608.0000 - val_false_positives_1: 395.0000 - val_false_negatives_1: 24.0000\n",
      "Epoch 36/50\n",
      "2000/2000 [==============================] - 23s 11ms/step - loss: 0.1117 - accuracy: 0.9718 - precision_1: 0.9550 - recall_1: 0.9904 - f1_score: 0.6672 - true_positives_1: 31722.0000 - true_negatives_1: 30457.0000 - false_positives_1: 1496.0000 - false_negatives_1: 309.0000 - val_loss: 0.1043 - val_accuracy: 0.9734 - val_precision_1: 0.9520 - val_recall_1: 0.9971 - val_f1_score: 0.6664 - val_true_positives_1: 7970.0000 - val_true_negatives_1: 7601.0000 - val_false_positives_1: 402.0000 - val_false_negatives_1: 23.0000\n",
      "Epoch 37/50\n",
      "2000/2000 [==============================] - 23s 11ms/step - loss: 0.1011 - accuracy: 0.9746 - precision_1: 0.9589 - recall_1: 0.9918 - f1_score: 0.6672 - true_positives_1: 31769.0000 - true_negatives_1: 30593.0000 - false_positives_1: 1360.0000 - false_negatives_1: 262.0000 - val_loss: 0.1184 - val_accuracy: 0.9665 - val_precision_1: 0.9543 - val_recall_1: 0.9799 - val_f1_score: 0.6664 - val_true_positives_1: 7832.0000 - val_true_negatives_1: 7628.0000 - val_false_positives_1: 375.0000 - val_false_negatives_1: 161.0000\n",
      "Epoch 38/50\n",
      "2000/2000 [==============================] - 23s 11ms/step - loss: 0.1029 - accuracy: 0.9740 - precision_1: 0.9575 - recall_1: 0.9922 - f1_score: 0.6672 - true_positives_1: 31782.0000 - true_negatives_1: 30541.0000 - false_positives_1: 1412.0000 - false_negatives_1: 249.0000 - val_loss: 0.1050 - val_accuracy: 0.9740 - val_precision_1: 0.9568 - val_recall_1: 0.9927 - val_f1_score: 0.6664 - val_true_positives_1: 7935.0000 - val_true_negatives_1: 7645.0000 - val_false_positives_1: 358.0000 - val_false_negatives_1: 58.0000\n",
      "Epoch 39/50\n",
      "2000/2000 [==============================] - 22s 11ms/step - loss: 0.1052 - accuracy: 0.9740 - precision_1: 0.9579 - recall_1: 0.9916 - f1_score: 0.6672 - true_positives_1: 31762.0000 - true_negatives_1: 30557.0000 - false_positives_1: 1396.0000 - false_negatives_1: 269.0000 - val_loss: 0.1094 - val_accuracy: 0.9729 - val_precision_1: 0.9531 - val_recall_1: 0.9946 - val_f1_score: 0.6664 - val_true_positives_1: 7950.0000 - val_true_negatives_1: 7612.0000 - val_false_positives_1: 391.0000 - val_false_negatives_1: 43.0000\n",
      "Epoch 40/50\n",
      "2000/2000 [==============================] - 23s 11ms/step - loss: 0.1106 - accuracy: 0.9712 - precision_1: 0.9568 - recall_1: 0.9870 - f1_score: 0.6672 - true_positives_1: 31613.0000 - true_negatives_1: 30526.0000 - false_positives_1: 1427.0000 - false_negatives_1: 418.0000 - val_loss: 0.0992 - val_accuracy: 0.9729 - val_precision_1: 0.9607 - val_recall_1: 0.9860 - val_f1_score: 0.6664 - val_true_positives_1: 7881.0000 - val_true_negatives_1: 7681.0000 - val_false_positives_1: 322.0000 - val_false_negatives_1: 112.0000\n",
      "Epoch 41/50\n",
      "2000/2000 [==============================] - 22s 11ms/step - loss: 0.1019 - accuracy: 0.9754 - precision_1: 0.9608 - recall_1: 0.9914 - f1_score: 0.6672 - true_positives_1: 31754.0000 - true_negatives_1: 30656.0000 - false_positives_1: 1297.0000 - false_negatives_1: 277.0000 - val_loss: 0.1004 - val_accuracy: 0.9742 - val_precision_1: 0.9640 - val_recall_1: 0.9851 - val_f1_score: 0.6664 - val_true_positives_1: 7874.0000 - val_true_negatives_1: 7709.0000 - val_false_positives_1: 294.0000 - val_false_negatives_1: 119.0000\n",
      "Epoch 42/50\n",
      "2000/2000 [==============================] - 22s 11ms/step - loss: 0.1010 - accuracy: 0.9750 - precision_1: 0.9605 - recall_1: 0.9909 - f1_score: 0.6672 - true_positives_1: 31741.0000 - true_negatives_1: 30646.0000 - false_positives_1: 1307.0000 - false_negatives_1: 290.0000 - val_loss: 0.1209 - val_accuracy: 0.9665 - val_precision_1: 0.9484 - val_recall_1: 0.9866 - val_f1_score: 0.6664 - val_true_positives_1: 7886.0000 - val_true_negatives_1: 7574.0000 - val_false_positives_1: 429.0000 - val_false_negatives_1: 107.0000\n",
      "Epoch 43/50\n",
      "2000/2000 [==============================] - 23s 11ms/step - loss: 0.1078 - accuracy: 0.9737 - precision_1: 0.9582 - recall_1: 0.9907 - f1_score: 0.6672 - true_positives_1: 31732.0000 - true_negatives_1: 30569.0000 - false_positives_1: 1384.0000 - false_negatives_1: 299.0000 - val_loss: 0.1158 - val_accuracy: 0.9671 - val_precision_1: 0.9589 - val_recall_1: 0.9759 - val_f1_score: 0.6664 - val_true_positives_1: 7800.0000 - val_true_negatives_1: 7669.0000 - val_false_positives_1: 334.0000 - val_false_negatives_1: 193.0000\n",
      "Epoch 44/50\n",
      "2000/2000 [==============================] - 22s 11ms/step - loss: 0.1020 - accuracy: 0.9756 - precision_1: 0.9616 - recall_1: 0.9908 - f1_score: 0.6672 - true_positives_1: 31737.0000 - true_negatives_1: 30686.0000 - false_positives_1: 1267.0000 - false_negatives_1: 294.0000 - val_loss: 0.1108 - val_accuracy: 0.9692 - val_precision_1: 0.9569 - val_recall_1: 0.9826 - val_f1_score: 0.6664 - val_true_positives_1: 7854.0000 - val_true_negatives_1: 7649.0000 - val_false_positives_1: 354.0000 - val_false_negatives_1: 139.0000\n",
      "Epoch 45/50\n",
      "2000/2000 [==============================] - 23s 11ms/step - loss: 0.1013 - accuracy: 0.9761 - precision_1: 0.9634 - recall_1: 0.9899 - f1_score: 0.6672 - true_positives_1: 31706.0000 - true_negatives_1: 30747.0000 - false_positives_1: 1206.0000 - false_negatives_1: 325.0000 - val_loss: 0.1110 - val_accuracy: 0.9737 - val_precision_1: 0.9516 - val_recall_1: 0.9981 - val_f1_score: 0.6664 - val_true_positives_1: 7978.0000 - val_true_negatives_1: 7597.0000 - val_false_positives_1: 406.0000 - val_false_negatives_1: 15.0000\n",
      "Epoch 46/50\n",
      "2000/2000 [==============================] - 22s 11ms/step - loss: 0.1002 - accuracy: 0.9756 - precision_1: 0.9609 - recall_1: 0.9916 - f1_score: 0.6672 - true_positives_1: 31762.0000 - true_negatives_1: 30660.0000 - false_positives_1: 1293.0000 - false_negatives_1: 269.0000 - val_loss: 0.0992 - val_accuracy: 0.9740 - val_precision_1: 0.9542 - val_recall_1: 0.9957 - val_f1_score: 0.6664 - val_true_positives_1: 7959.0000 - val_true_negatives_1: 7621.0000 - val_false_positives_1: 382.0000 - val_false_negatives_1: 34.0000\n",
      "Epoch 47/50\n",
      "2000/2000 [==============================] - 22s 11ms/step - loss: 0.0931 - accuracy: 0.9778 - precision_1: 0.9642 - recall_1: 0.9924 - f1_score: 0.6672 - true_positives_1: 31788.0000 - true_negatives_1: 30773.0000 - false_positives_1: 1180.0000 - false_negatives_1: 243.0000 - val_loss: 0.0857 - val_accuracy: 0.9813 - val_precision_1: 0.9657 - val_recall_1: 0.9980 - val_f1_score: 0.6664 - val_true_positives_1: 7977.0000 - val_true_negatives_1: 7720.0000 - val_false_positives_1: 283.0000 - val_false_negatives_1: 16.0000\n",
      "Epoch 48/50\n",
      "2000/2000 [==============================] - 23s 11ms/step - loss: 0.1001 - accuracy: 0.9756 - precision_1: 0.9627 - recall_1: 0.9896 - f1_score: 0.6672 - true_positives_1: 31699.0000 - true_negatives_1: 30726.0000 - false_positives_1: 1227.0000 - false_negatives_1: 332.0000 - val_loss: 0.1110 - val_accuracy: 0.9711 - val_precision_1: 0.9520 - val_recall_1: 0.9921 - val_f1_score: 0.6664 - val_true_positives_1: 7930.0000 - val_true_negatives_1: 7603.0000 - val_false_positives_1: 400.0000 - val_false_negatives_1: 63.0000\n",
      "Epoch 49/50\n",
      "2000/2000 [==============================] - 22s 11ms/step - loss: 0.1006 - accuracy: 0.9762 - precision_1: 0.9630 - recall_1: 0.9906 - f1_score: 0.6672 - true_positives_1: 31730.0000 - true_negatives_1: 30733.0000 - false_positives_1: 1220.0000 - false_negatives_1: 301.0000 - val_loss: 0.1203 - val_accuracy: 0.9663 - val_precision_1: 0.9580 - val_recall_1: 0.9754 - val_f1_score: 0.6664 - val_true_positives_1: 7796.0000 - val_true_negatives_1: 7661.0000 - val_false_positives_1: 342.0000 - val_false_negatives_1: 197.0000\n",
      "Epoch 50/50\n",
      "2000/2000 [==============================] - 23s 11ms/step - loss: 0.0929 - accuracy: 0.9792 - precision_1: 0.9663 - recall_1: 0.9931 - f1_score: 0.6672 - true_positives_1: 31810.0000 - true_negatives_1: 30844.0000 - false_positives_1: 1109.0000 - false_negatives_1: 221.0000 - val_loss: 0.0943 - val_accuracy: 0.9795 - val_precision_1: 0.9666 - val_recall_1: 0.9932 - val_f1_score: 0.6664 - val_true_positives_1: 7939.0000 - val_true_negatives_1: 7729.0000 - val_false_positives_1: 274.0000 - val_false_negatives_1: 54.0000\n"
     ]
    }
   ],
   "source": [
    "history = model.fit(X_train, Y_train, epochs = 50 ,validation_split=0.2, verbose = 1)"
   ]
  },
  {
   "cell_type": "code",
   "execution_count": 100,
   "id": "f784988c",
   "metadata": {},
   "outputs": [
    {
     "data": {
      "image/png": "[encoded data removed]",
      "text/plain": [
       "<Figure size 640x480 with 1 Axes>"
      ]
     },
     "metadata": {},
     "output_type": "display_data"
    }
   ],
   "source": [
    "# Plot training & validation accuracy values\n",
    "plt.plot(history.history['accuracy'])\n",
    "plt.plot(history.history['val_accuracy'])\n",
    "#plt.plot(history.history['precision_1'])\n",
    "#plt.plot(history.history['precision'])\n",
    "plt.title('BRNN model accuracy')\n",
    "plt.ylabel('Accuracy')\n",
    "plt.xlabel('Epoch')\n",
    "plt.legend(['Train','Test/Validation'],loc='lower right')\n",
    "plt.savefig('BRNN Model Accuracy.png')\n",
    "plt.show()"
   ]
  },
  {
   "cell_type": "code",
   "execution_count": 102,
   "id": "7800da19",
   "metadata": {},
   "outputs": [
    {
     "data": {
      "image/png": "[encoded data removed]",
      "text/plain": [
       "<Figure size 640x480 with 1 Axes>"
      ]
     },
     "metadata": {},
     "output_type": "display_data"
    }
   ],
   "source": [
    "plt.plot(history.history['precision_1'])\n",
    "plt.plot(history.history['val_precision_1'])\n",
    "plt.title('BRNN model precision')\n",
    "plt.ylabel('Precision')\n",
    "plt.xlabel('Epoch')\n",
    "plt.legend(['Train','Test/Validation'],loc='lower right')\n",
    "plt.savefig('BRNN Model Precision.png')\n",
    "plt.show()"
   ]
  },
  {
   "cell_type": "code",
   "execution_count": 104,
   "id": "fc0d5473",
   "metadata": {},
   "outputs": [
    {
     "data": {
      "image/png": "[encoded data removed]",
      "text/plain": [
       "<Figure size 640x480 with 1 Axes>"
      ]
     },
     "metadata": {},
     "output_type": "display_data"
    }
   ],
   "source": [
    "# Plot training & validation recall values\n",
    "plt.plot(history.history['recall_1'])\n",
    "plt.plot(history.history['val_recall_1'])\n",
    "plt.title('BRNN model recall')\n",
    "plt.ylabel('Recall')\n",
    "plt.xlabel('Epoch')\n",
    "plt.legend(['Train','Test/Validation'],loc='lower right')\n",
    "plt.savefig('BRNN Model recall.png')\n",
    "plt.show()"
   ]
  },
  {
   "cell_type": "code",
   "execution_count": 105,
   "id": "5893b0a6",
   "metadata": {},
   "outputs": [
    {
     "data": {
      "image/png": "[encoded data removed]",
      "text/plain": [
       "<Figure size 640x480 with 1 Axes>"
      ]
     },
     "metadata": {},
     "output_type": "display_data"
    }
   ],
   "source": [
    "# Plot training & validation loss values\n",
    "plt.plot(history.history['loss'])\n",
    "plt.plot(history.history['val_loss'])\n",
    "plt.title('BRNN Model Loss')\n",
    "plt.ylabel('Loss')\n",
    "plt.xlabel('Epoch')\n",
    "plt.legend(['Train', 'Test'], loc='upper left')\n",
    "plt.savefig('BRNN Model Loss.png')\n",
    "plt.show()"
   ]
  },
  {
   "cell_type": "code",
   "execution_count": 106,
   "id": "b0a40228",
   "metadata": {},
   "outputs": [],
   "source": [
    "X_test = np.asarray(X_test).astype(np.float32)\n",
    "Y_test = np.asarray(Y_test).astype(np.float32)"
   ]
  },
  {
   "cell_type": "code",
   "execution_count": 111,
   "id": "89ce2dad",
   "metadata": {},
   "outputs": [
    {
     "name": "stdout",
     "output_type": "stream",
     "text": [
      "['loss', 'accuracy', 'precision_1', 'recall_1', 'f1_score', 'true_positives_1', 'true_negatives_1', 'false_positives_1', 'false_negatives_1']\n"
     ]
    }
   ],
   "source": [
    "print(model.metrics_names)"
   ]
  },
  {
   "cell_type": "code",
   "execution_count": 112,
   "id": "574db104",
   "metadata": {},
   "outputs": [],
   "source": [
    "scores1 = model.evaluate(X_test, Y_test, verbose=0)"
   ]
  },
  {
   "cell_type": "code",
   "execution_count": 114,
   "id": "73ecab6a",
   "metadata": {},
   "outputs": [
    {
     "name": "stdout",
     "output_type": "stream",
     "text": [
      "loss :  0.09623981267213821\n",
      "accuracy :  0.9804950952529907\n",
      "precision_1 :  0.9676220417022705\n",
      "recall_1 :  0.9940709471702576\n",
      "f1_score :  [0.66459626]\n",
      "true_positives_1 :  9892.0\n",
      "true_negatives_1 :  9713.0\n",
      "false_positives_1 :  331.0\n",
      "false_negatives_1 :  59.0\n"
     ]
    }
   ],
   "source": [
    "for y in range(len(model.metrics_names)):\n",
    "    print(model.metrics_names[y],\": \",scores1[y])"
   ]
  },
  {
   "cell_type": "code",
   "execution_count": 115,
   "id": "a085d63b",
   "metadata": {},
   "outputs": [],
   "source": [
    "tp1 = int(scores[5])\n",
    "tn1 = int(scores[6])\n",
    "fp1 = int(scores[7])\n",
    "fn1 = int(scores[8])"
   ]
  },
  {
   "cell_type": "code",
   "execution_count": 117,
   "id": "8579c7be",
   "metadata": {},
   "outputs": [
    {
     "data": {
      "image/png": "[encoded data removed]",
      "text/plain": [
       "<Figure size 640x480 with 2 Axes>"
      ]
     },
     "metadata": {},
     "output_type": "display_data"
    }
   ],
   "source": [
    "to_heat_map =[[tn1,fp1],[fn1,tp1]]\n",
    "to_heat_map = pd.DataFrame(to_heat_map, index = [\" True Attack\",\"True Normal\"],columns = [\"Predicted Attack\",\"Predicted Normal\"])\n",
    "ax = sns.heatmap(to_heat_map,annot=True, fmt=\"d\")"
   ]
  },
  {
   "cell_type": "markdown",
   "id": "a9d0f7f7",
   "metadata": {},
   "source": [
    "## 7. Evaluating all results"
   ]
  },
  {
   "cell_type": "code",
   "execution_count": 118,
   "id": "5c457b9e",
   "metadata": {},
   "outputs": [],
   "source": [
    "data_types = {\n",
    "    'Method': str,\n",
    "    'Accuracy': float,\n",
    "    'Precision': float,\n",
    "    'Recall':float\n",
    "}"
   ]
  },
  {
   "cell_type": "code",
   "execution_count": 119,
   "id": "aa1c5cbb",
   "metadata": {},
   "outputs": [],
   "source": [
    "df = pd.DataFrame(columns=data_types.keys())"
   ]
  },
  {
   "cell_type": "code",
   "execution_count": 120,
   "id": "68b19c67",
   "metadata": {},
   "outputs": [],
   "source": [
    "df = df.astype(data_types)"
   ]
  },
  {
   "cell_type": "code",
   "execution_count": 121,
   "id": "9f1905d1",
   "metadata": {},
   "outputs": [],
   "source": [
    "row1 = {'Method': 'LOGISTIC REGRESSION', 'Accuracy': 77.15, 'Precision': 91.08,'Recall':60.10}\n",
    "row2 = {'Method': 'RANDOM FOREST', 'Accuracy': 96.66, 'Precision': 97.83,'Recall':95.44}\n",
    "row3 = {'Method':'ANN','Accuracy':86.78,'Precision':92.49,'Recall':79.99}\n",
    "row4 = {'Method': 'BIDIRECTIONAL LSTM', 'Accuracy': 98.12, 'Precision': 96.81,'Recall':99.51,}"
   ]
  },
  {
   "cell_type": "code",
   "execution_count": 122,
   "id": "bc42ada5",
   "metadata": {},
   "outputs": [
    {
     "name": "stderr",
     "output_type": "stream",
     "text": [
      "C:\\Users\\Asus\\AppData\\Local\\Temp\\ipykernel_13832\\3739454826.py:1: FutureWarning: The frame.append method is deprecated and will be removed from pandas in a future version. Use pandas.concat instead.\n",
      "  df=df.append(row1,ignore_index=True)\n"
     ]
    }
   ],
   "source": [
    "df=df.append(row1,ignore_index=True)"
   ]
  },
  {
   "cell_type": "code",
   "execution_count": 123,
   "id": "f9f8d3f1",
   "metadata": {},
   "outputs": [
    {
     "name": "stderr",
     "output_type": "stream",
     "text": [
      "C:\\Users\\Asus\\AppData\\Local\\Temp\\ipykernel_13832\\3508064295.py:1: FutureWarning: The frame.append method is deprecated and will be removed from pandas in a future version. Use pandas.concat instead.\n",
      "  df=df.append(row2,ignore_index=True)\n"
     ]
    }
   ],
   "source": [
    "df=df.append(row2,ignore_index=True)"
   ]
  },
  {
   "cell_type": "code",
   "execution_count": 124,
   "id": "e490ca96",
   "metadata": {},
   "outputs": [
    {
     "name": "stderr",
     "output_type": "stream",
     "text": [
      "C:\\Users\\Asus\\AppData\\Local\\Temp\\ipykernel_13832\\920509508.py:1: FutureWarning: The frame.append method is deprecated and will be removed from pandas in a future version. Use pandas.concat instead.\n",
      "  df=df.append(row3,ignore_index=True)\n"
     ]
    }
   ],
   "source": [
    "df=df.append(row3,ignore_index=True)"
   ]
  },
  {
   "cell_type": "code",
   "execution_count": 125,
   "id": "2e78b81e",
   "metadata": {},
   "outputs": [
    {
     "name": "stderr",
     "output_type": "stream",
     "text": [
      "C:\\Users\\Asus\\AppData\\Local\\Temp\\ipykernel_13832\\3302492021.py:1: FutureWarning: The frame.append method is deprecated and will be removed from pandas in a future version. Use pandas.concat instead.\n",
      "  df=df.append(row4,ignore_index=True)\n"
     ]
    }
   ],
   "source": [
    "df=df.append(row4,ignore_index=True)"
   ]
  },
  {
   "cell_type": "code",
   "execution_count": 126,
   "id": "c3c2efe4",
   "metadata": {},
   "outputs": [],
   "source": [
    "def addlabels(x,y):\n",
    "    for i in range(len(x)):\n",
    "        plt.text(i, y[i]//2, y[i], ha = 'center')"
   ]
  },
  {
   "cell_type": "code",
   "execution_count": 127,
   "id": "65d8a495",
   "metadata": {},
   "outputs": [
    {
     "data": {
      "image/png": "[encoded data removed]",
      "text/plain": [
       "<Figure size 800x400 with 1 Axes>"
      ]
     },
     "metadata": {},
     "output_type": "display_data"
    }
   ],
   "source": [
    "df.plot(kind='bar', x='Method', y='Accuracy',figsize=(8,4),color='lightgreen',legend=False)\n",
    "\n",
    "addlabels(df['Method'],df['Accuracy'])\n",
    "# Adding titles and labels\n",
    "plt.title('ACCURACY OF ALL METHODS')\n",
    "plt.xlabel('METHODS',labelpad=20)\n",
    "plt.ylabel('ACCURACY')\n",
    "plt.savefig('Accuracies.png')\n",
    "plt.xticks(rotation=0)\n",
    "# Show the plot\n",
    "plt.show()"
   ]
  },
  {
   "cell_type": "code",
   "execution_count": 128,
   "id": "f274add7",
   "metadata": {},
   "outputs": [
    {
     "data": {
      "image/png": "[encoded data removed]",
      "text/plain": [
       "<Figure size 800x400 with 1 Axes>"
      ]
     },
     "metadata": {},
     "output_type": "display_data"
    }
   ],
   "source": [
    "df.plot(kind='bar', x='Method', y='Precision',figsize=(8,4), color='skyblue',legend=False)\n",
    "\n",
    "addlabels(df['Method'],df['Precision'])\n",
    "# Adding titles and labels\n",
    "plt.title('PRECISION OF ALL METHODS')\n",
    "plt.xlabel('METHODS',labelpad=20)\n",
    "plt.ylabel('PRECISION')\n",
    "plt.xticks(rotation=0)\n",
    "plt.savefig('Precisions.jpeg')\n",
    "# Show the plot\n",
    "plt.show()"
   ]
  },
  {
   "cell_type": "code",
   "execution_count": 129,
   "id": "bc6a0c73",
   "metadata": {},
   "outputs": [
    {
     "data": {
      "image/png": "[encoded data removed]",
      "text/plain": [
       "<Figure size 800x400 with 1 Axes>"
      ]
     },
     "metadata": {},
     "output_type": "display_data"
    }
   ],
   "source": [
    "df.plot(kind='bar', x='Method', y='Recall',figsize=(8,4),color='red',legend=False)\n",
    "\n",
    "addlabels(df['Method'],df['Recall'])\n",
    "# Adding titles and labels\n",
    "plt.title('RECALL VALUES ACROSS ALL METHODS')\n",
    "plt.xlabel('METHODS',labelpad=20)\n",
    "plt.ylabel('RECALL')\n",
    "plt.xticks(rotation=0)\n",
    "plt.savefig('Recalls.jpeg')\n",
    "# Show the plot\n",
    "plt.show()"
   ]
  },
  {
   "cell_type": "code",
   "execution_count": null,
   "id": "e6fcc856",
   "metadata": {},
   "outputs": [],
   "source": []
  },
  {
   "cell_type": "code",
   "execution_count": null,
   "id": "09bd6493",
   "metadata": {},
   "outputs": [],
   "source": []
  },
  {
   "cell_type": "code",
   "execution_count": null,
   "id": "90db2fa7",
   "metadata": {},
   "outputs": [],
   "source": []
  }
 ],
 "metadata": {
  "kernelspec": {
   "display_name": "Python [conda env:base] *",
   "language": "python",
   "name": "conda-base-py"
  },
  "language_info": {
   "codemirror_mode": {
    "name": "ipython",
    "version": 3
   },
   "file_extension": ".py",
   "mimetype": "text/x-python",
   "name": "python",
   "nbconvert_exporter": "python",
   "pygments_lexer": "ipython3",
   "version": "3.12.7"
  }
 },
 "nbformat": 4,
 "nbformat_minor": 5
}
